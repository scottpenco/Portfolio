{
 "cells": [
  {
   "cell_type": "markdown",
   "metadata": {},
   "source": [
    "# Non-Parametric A/B Testing"
   ]
  },
  {
   "cell_type": "code",
   "execution_count": 7,
   "metadata": {},
   "outputs": [],
   "source": [
    "#importing libraries \n",
    "import numpy as np\n",
    "from scipy.stats import chi2_contingency"
   ]
  },
  {
   "cell_type": "code",
   "execution_count": 9,
   "metadata": {},
   "outputs": [],
   "source": [
    "#Get impressions and Calculate CTR\n",
    "impressions_a = 1000  # Impressions for group A\n",
    "clicks_a = 120       # Clicks for group A\n",
    "impressions_b = 1000  # Impressions for group B\n",
    "clicks_b = 150       # Clicks for group B\n",
    "\n",
    "# Compute CTR\n",
    "ctr_a = clicks_a / impressions_a\n",
    "ctr_b = clicks_b / impressions_b"
   ]
  },
  {
   "cell_type": "code",
   "execution_count": 10,
   "metadata": {},
   "outputs": [
    {
     "name": "stdout",
     "output_type": "stream",
     "text": [
      "CTR for Group A (Control): 0.1200\n",
      "CTR for Group B (Treatment): 0.1500\n"
     ]
    }
   ],
   "source": [
    "#Print CTR for Group A and B \n",
    "print(f\"CTR for Group A (Control): {ctr_a:.4f}\")\n",
    "print(f\"CTR for Group B (Treatment): {ctr_b:.4f}\")"
   ]
  },
  {
   "cell_type": "code",
   "execution_count": 11,
   "metadata": {},
   "outputs": [],
   "source": [
    "# Construct Contingency Table \n",
    "# The table format: [[Clicks_A, Non-Clicks_A], [Clicks_B, Non-Clicks_B]]\n",
    "\n",
    "non_clicks_a = impressions_a - clicks_a\n",
    "non_clicks_b = impressions_b - clicks_b\n",
    "\n",
    "contingency_table = [\n",
    "    [clicks_a, non_clicks_a],\n",
    "    [clicks_b, non_clicks_b]\n",
    "]\n"
   ]
  },
  {
   "cell_type": "code",
   "execution_count": 12,
   "metadata": {},
   "outputs": [],
   "source": [
    "#Perform Chi-Square Test \n",
    "chi2, p_value, dof, expected = chi2_contingency(contingency_table)"
   ]
  },
  {
   "cell_type": "code",
   "execution_count": 13,
   "metadata": {},
   "outputs": [
    {
     "name": "stdout",
     "output_type": "stream",
     "text": [
      "\n",
      "Chi-Square Test Results:\n",
      "Chi-Square Statistic: 3.6009\n",
      "p-value: 0.0577\n"
     ]
    }
   ],
   "source": [
    "print(\"\\nChi-Square Test Results:\")\n",
    "print(f\"Chi-Square Statistic: {chi2:.4f}\")\n",
    "print(f\"p-value: {p_value:.4f}\")"
   ]
  },
  {
   "cell_type": "code",
   "execution_count": 14,
   "metadata": {},
   "outputs": [
    {
     "name": "stdout",
     "output_type": "stream",
     "text": [
      "Conclusion: Fail to reject the null hypothesis. No statistically significant difference in CTR between the two groups.\n"
     ]
    }
   ],
   "source": [
    "# Evaluate Results\n",
    "alpha = 0.05  # Significance level\n",
    "\n",
    "if p_value < alpha:\n",
    "    print(\"Conclusion: Reject the null hypothesis. There is a statistically significant difference in CTR between the two groups.\")\n",
    "else:\n",
    "    print(\"Conclusion: Fail to reject the null hypothesis. No statistically significant difference in CTR between the two groups.\")"
   ]
  },
  {
   "cell_type": "code",
   "execution_count": 15,
   "metadata": {},
   "outputs": [
    {
     "name": "stdout",
     "output_type": "stream",
     "text": [
      "\n",
      "Effect Size:\n",
      "Absolute Lift in CTR: 0.0300\n",
      "Relative Lift in CTR: 25.00%\n"
     ]
    }
   ],
   "source": [
    "#Effect Size\n",
    "# Computing the absolute and relative lift in CTR\n",
    "absolute_lift = ctr_b - ctr_a\n",
    "relative_lift = (ctr_b - ctr_a) / ctr_a\n",
    "\n",
    "print(\"\\nEffect Size:\")\n",
    "print(f\"Absolute Lift in CTR: {absolute_lift:.4f}\")\n",
    "print(f\"Relative Lift in CTR: {relative_lift:.2%}\")\n"
   ]
  }
 ],
 "metadata": {
  "kernelspec": {
   "display_name": "base",
   "language": "python",
   "name": "python3"
  },
  "language_info": {
   "codemirror_mode": {
    "name": "ipython",
    "version": 3
   },
   "file_extension": ".py",
   "mimetype": "text/x-python",
   "name": "python",
   "nbconvert_exporter": "python",
   "pygments_lexer": "ipython3",
   "version": "3.12.4"
  }
 },
 "nbformat": 4,
 "nbformat_minor": 2
}

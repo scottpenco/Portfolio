{
 "cells": [
  {
   "cell_type": "markdown",
   "metadata": {},
   "source": [
    "# FaceBook Ad Campaign Dataset A/B Testing and Analysis"
   ]
  },
  {
   "cell_type": "markdown",
   "metadata": {},
   "source": [
    "**Facebook Ad Campaign Dataset for A/B Testing**\n",
    "The Facebook Ad Campaign Dataset contains data on advertisements run by a company on Facebook. It includes key metrics related to ad performance, such as impressions, clicks, spend, and conversions, making it ideal for A/B testing to evaluate ad effectiveness.\n",
    "\n",
    "Overall, the data has **1,143 entries** and **11 columns**. A brief description for each column is given below:\n",
    "\n",
    "- **`ad_id`**: A unique ID for each ad.\n",
    "- **`campaign_id`**: An ID associated with each ad campaign of XYZ company.\n",
    "- **`fb_campaign_id`**: An ID associated with how Facebook tracks each campaign.\n",
    "- **`age`**: Age of the person to whom the ad is shown.\n",
    "- **`gender`**: Gender of the person to whom the ad is shown.\n",
    "- **`interest`**: A code specifying the category to which the person’s interest belongs (interests are as mentioned in the person’s Facebook public profile).\n",
    "- **`impressions`**: The number of times the ad was shown.\n",
    "- **`clicks`**: Number of clicks on that ad.\n",
    "- **`spent`**: Amount paid by company XYZ to Facebook to show that ad.\n",
    "- **`total_conversion`**: Total number of people who enquired about the product after seeing the ad.\n",
    "- **`approved_conversion`**: Total number of people who bought the product after seeing the ad.\n"
   ]
  },
  {
   "cell_type": "code",
   "execution_count": 87,
   "metadata": {},
   "outputs": [],
   "source": [
    "import numpy as np\n",
    "import scipy.stats as stats\n",
    "import pandas as pd \n",
    "import matplotlib.pyplot as plt\n",
    "import seaborn as sb\n",
    "import kagglehub"
   ]
  },
  {
   "cell_type": "code",
   "execution_count": 88,
   "metadata": {},
   "outputs": [],
   "source": [
    "# Download latest version\n",
    "path = kagglehub.dataset_download(\"madislemsalu/facebook-ad-campaign\")\n"
   ]
  },
  {
   "cell_type": "code",
   "execution_count": 89,
   "metadata": {},
   "outputs": [],
   "source": [
    "df = pd.read_csv(path+'/data.csv')"
   ]
  },
  {
   "cell_type": "code",
   "execution_count": 90,
   "metadata": {},
   "outputs": [
    {
     "data": {
      "application/vnd.microsoft.datawrangler.viewer.v0+json": {
       "columns": [
        {
         "name": "index",
         "rawType": "int64",
         "type": "integer"
        },
        {
         "name": "ad_id",
         "rawType": "int64",
         "type": "integer"
        },
        {
         "name": "reporting_start",
         "rawType": "object",
         "type": "string"
        },
        {
         "name": "reporting_end",
         "rawType": "object",
         "type": "string"
        },
        {
         "name": "campaign_id",
         "rawType": "object",
         "type": "string"
        },
        {
         "name": "fb_campaign_id",
         "rawType": "object",
         "type": "string"
        },
        {
         "name": "age",
         "rawType": "object",
         "type": "string"
        },
        {
         "name": "gender",
         "rawType": "object",
         "type": "string"
        },
        {
         "name": "interest1",
         "rawType": "int64",
         "type": "integer"
        },
        {
         "name": "interest2",
         "rawType": "int64",
         "type": "integer"
        },
        {
         "name": "interest3",
         "rawType": "int64",
         "type": "integer"
        },
        {
         "name": "impressions",
         "rawType": "float64",
         "type": "float"
        },
        {
         "name": "clicks",
         "rawType": "int64",
         "type": "integer"
        },
        {
         "name": "spent",
         "rawType": "float64",
         "type": "float"
        },
        {
         "name": "total_conversion",
         "rawType": "float64",
         "type": "float"
        },
        {
         "name": "approved_conversion",
         "rawType": "float64",
         "type": "float"
        }
       ],
       "conversionMethod": "pd.DataFrame",
       "ref": "5e678009-f4a4-48d3-9037-0bfd7263115d",
       "rows": [
        [
         "755",
         "1121584",
         "20/08/2017",
         "20/08/2017",
         "1178",
         "144621",
         "40-44",
         "M",
         "66",
         "67",
         "67",
         "33154.0",
         "5",
         "7.879999995",
         "1.0",
         "1.0"
        ],
        [
         "756",
         "1121585",
         "20/08/2017",
         "20/08/2017",
         "1178",
         "144621",
         "40-44",
         "M",
         "66",
         "72",
         "68",
         "9773.0",
         "1",
         "1.460000038",
         "1.0",
         "0.0"
        ],
        [
         "757",
         "1121589",
         "20/08/2017",
         "20/08/2017",
         "1178",
         "144622",
         "45-49",
         "M",
         "10",
         "16",
         "11",
         "464036.0",
         "77",
         "123.5500004",
         "3.0",
         "1.0"
        ],
        [
         "758",
         "1121590",
         "20/08/2017",
         "20/08/2017",
         "1178",
         "144622",
         "45-49",
         "M",
         "10",
         "16",
         "15",
         "478480.0",
         "75",
         "135.7500012",
         "3.0",
         "1.0"
        ],
        [
         "759",
         "1121592",
         "20/08/2017",
         "20/08/2017",
         "1178",
         "144622",
         "45-49",
         "M",
         "10",
         "14",
         "11",
         "428812.0",
         "66",
         "116.8800001",
         "4.0",
         "2.0"
        ],
        [
         "760",
         "1121593",
         "26/08/2017",
         "26/08/2017",
         "1178",
         "144622",
         "45-49",
         "M",
         "10",
         "16",
         "16",
         "1177535.0",
         "221",
         "365.6600009",
         "15.0",
         "3.0"
        ],
        [
         "761",
         "1121594",
         "26/08/2017",
         "26/08/2017",
         "45-49",
         "M",
         "10",
         "14",
         "14",
         "426500",
         "72",
         "128.2799988",
         "4",
         "1.0",
         null,
         null
        ],
        [
         "762",
         "1121597",
         "30/08/2017",
         "30/08/2017",
         "45-49",
         "M",
         "15",
         "21",
         "19",
         "54237",
         "7",
         "10.77999985",
         "2",
         "1.0",
         null,
         null
        ],
        [
         "763",
         "1121598",
         "30/08/2017",
         "30/08/2017",
         "45-49",
         "M",
         "15",
         "19",
         "18",
         "506916",
         "89",
         "133.6999986",
         "2",
         "2.0",
         null,
         null
        ],
        [
         "764",
         "1121599",
         "30/08/2017",
         "30/08/2017",
         "45-49",
         "M",
         "15",
         "17",
         "18",
         "250960",
         "42",
         "64.87999952",
         "2",
         "0.0",
         null,
         null
        ]
       ],
       "shape": {
        "columns": 15,
        "rows": 10
       }
      },
      "text/html": [
       "<div>\n",
       "<style scoped>\n",
       "    .dataframe tbody tr th:only-of-type {\n",
       "        vertical-align: middle;\n",
       "    }\n",
       "\n",
       "    .dataframe tbody tr th {\n",
       "        vertical-align: top;\n",
       "    }\n",
       "\n",
       "    .dataframe thead th {\n",
       "        text-align: right;\n",
       "    }\n",
       "</style>\n",
       "<table border=\"1\" class=\"dataframe\">\n",
       "  <thead>\n",
       "    <tr style=\"text-align: right;\">\n",
       "      <th></th>\n",
       "      <th>ad_id</th>\n",
       "      <th>reporting_start</th>\n",
       "      <th>reporting_end</th>\n",
       "      <th>campaign_id</th>\n",
       "      <th>fb_campaign_id</th>\n",
       "      <th>age</th>\n",
       "      <th>gender</th>\n",
       "      <th>interest1</th>\n",
       "      <th>interest2</th>\n",
       "      <th>interest3</th>\n",
       "      <th>impressions</th>\n",
       "      <th>clicks</th>\n",
       "      <th>spent</th>\n",
       "      <th>total_conversion</th>\n",
       "      <th>approved_conversion</th>\n",
       "    </tr>\n",
       "  </thead>\n",
       "  <tbody>\n",
       "    <tr>\n",
       "      <th>755</th>\n",
       "      <td>1121584</td>\n",
       "      <td>20/08/2017</td>\n",
       "      <td>20/08/2017</td>\n",
       "      <td>1178</td>\n",
       "      <td>144621</td>\n",
       "      <td>40-44</td>\n",
       "      <td>M</td>\n",
       "      <td>66</td>\n",
       "      <td>67</td>\n",
       "      <td>67</td>\n",
       "      <td>3.315400e+04</td>\n",
       "      <td>5</td>\n",
       "      <td>7.880000</td>\n",
       "      <td>1.0</td>\n",
       "      <td>1.0</td>\n",
       "    </tr>\n",
       "    <tr>\n",
       "      <th>756</th>\n",
       "      <td>1121585</td>\n",
       "      <td>20/08/2017</td>\n",
       "      <td>20/08/2017</td>\n",
       "      <td>1178</td>\n",
       "      <td>144621</td>\n",
       "      <td>40-44</td>\n",
       "      <td>M</td>\n",
       "      <td>66</td>\n",
       "      <td>72</td>\n",
       "      <td>68</td>\n",
       "      <td>9.773000e+03</td>\n",
       "      <td>1</td>\n",
       "      <td>1.460000</td>\n",
       "      <td>1.0</td>\n",
       "      <td>0.0</td>\n",
       "    </tr>\n",
       "    <tr>\n",
       "      <th>757</th>\n",
       "      <td>1121589</td>\n",
       "      <td>20/08/2017</td>\n",
       "      <td>20/08/2017</td>\n",
       "      <td>1178</td>\n",
       "      <td>144622</td>\n",
       "      <td>45-49</td>\n",
       "      <td>M</td>\n",
       "      <td>10</td>\n",
       "      <td>16</td>\n",
       "      <td>11</td>\n",
       "      <td>4.640360e+05</td>\n",
       "      <td>77</td>\n",
       "      <td>123.550000</td>\n",
       "      <td>3.0</td>\n",
       "      <td>1.0</td>\n",
       "    </tr>\n",
       "    <tr>\n",
       "      <th>758</th>\n",
       "      <td>1121590</td>\n",
       "      <td>20/08/2017</td>\n",
       "      <td>20/08/2017</td>\n",
       "      <td>1178</td>\n",
       "      <td>144622</td>\n",
       "      <td>45-49</td>\n",
       "      <td>M</td>\n",
       "      <td>10</td>\n",
       "      <td>16</td>\n",
       "      <td>15</td>\n",
       "      <td>4.784800e+05</td>\n",
       "      <td>75</td>\n",
       "      <td>135.750001</td>\n",
       "      <td>3.0</td>\n",
       "      <td>1.0</td>\n",
       "    </tr>\n",
       "    <tr>\n",
       "      <th>759</th>\n",
       "      <td>1121592</td>\n",
       "      <td>20/08/2017</td>\n",
       "      <td>20/08/2017</td>\n",
       "      <td>1178</td>\n",
       "      <td>144622</td>\n",
       "      <td>45-49</td>\n",
       "      <td>M</td>\n",
       "      <td>10</td>\n",
       "      <td>14</td>\n",
       "      <td>11</td>\n",
       "      <td>4.288120e+05</td>\n",
       "      <td>66</td>\n",
       "      <td>116.880000</td>\n",
       "      <td>4.0</td>\n",
       "      <td>2.0</td>\n",
       "    </tr>\n",
       "    <tr>\n",
       "      <th>760</th>\n",
       "      <td>1121593</td>\n",
       "      <td>26/08/2017</td>\n",
       "      <td>26/08/2017</td>\n",
       "      <td>1178</td>\n",
       "      <td>144622</td>\n",
       "      <td>45-49</td>\n",
       "      <td>M</td>\n",
       "      <td>10</td>\n",
       "      <td>16</td>\n",
       "      <td>16</td>\n",
       "      <td>1.177535e+06</td>\n",
       "      <td>221</td>\n",
       "      <td>365.660001</td>\n",
       "      <td>15.0</td>\n",
       "      <td>3.0</td>\n",
       "    </tr>\n",
       "    <tr>\n",
       "      <th>761</th>\n",
       "      <td>1121594</td>\n",
       "      <td>26/08/2017</td>\n",
       "      <td>26/08/2017</td>\n",
       "      <td>45-49</td>\n",
       "      <td>M</td>\n",
       "      <td>10</td>\n",
       "      <td>14</td>\n",
       "      <td>14</td>\n",
       "      <td>426500</td>\n",
       "      <td>72</td>\n",
       "      <td>1.282800e+02</td>\n",
       "      <td>4</td>\n",
       "      <td>1.000000</td>\n",
       "      <td>NaN</td>\n",
       "      <td>NaN</td>\n",
       "    </tr>\n",
       "    <tr>\n",
       "      <th>762</th>\n",
       "      <td>1121597</td>\n",
       "      <td>30/08/2017</td>\n",
       "      <td>30/08/2017</td>\n",
       "      <td>45-49</td>\n",
       "      <td>M</td>\n",
       "      <td>15</td>\n",
       "      <td>21</td>\n",
       "      <td>19</td>\n",
       "      <td>54237</td>\n",
       "      <td>7</td>\n",
       "      <td>1.078000e+01</td>\n",
       "      <td>2</td>\n",
       "      <td>1.000000</td>\n",
       "      <td>NaN</td>\n",
       "      <td>NaN</td>\n",
       "    </tr>\n",
       "    <tr>\n",
       "      <th>763</th>\n",
       "      <td>1121598</td>\n",
       "      <td>30/08/2017</td>\n",
       "      <td>30/08/2017</td>\n",
       "      <td>45-49</td>\n",
       "      <td>M</td>\n",
       "      <td>15</td>\n",
       "      <td>19</td>\n",
       "      <td>18</td>\n",
       "      <td>506916</td>\n",
       "      <td>89</td>\n",
       "      <td>1.337000e+02</td>\n",
       "      <td>2</td>\n",
       "      <td>2.000000</td>\n",
       "      <td>NaN</td>\n",
       "      <td>NaN</td>\n",
       "    </tr>\n",
       "    <tr>\n",
       "      <th>764</th>\n",
       "      <td>1121599</td>\n",
       "      <td>30/08/2017</td>\n",
       "      <td>30/08/2017</td>\n",
       "      <td>45-49</td>\n",
       "      <td>M</td>\n",
       "      <td>15</td>\n",
       "      <td>17</td>\n",
       "      <td>18</td>\n",
       "      <td>250960</td>\n",
       "      <td>42</td>\n",
       "      <td>6.488000e+01</td>\n",
       "      <td>2</td>\n",
       "      <td>0.000000</td>\n",
       "      <td>NaN</td>\n",
       "      <td>NaN</td>\n",
       "    </tr>\n",
       "  </tbody>\n",
       "</table>\n",
       "</div>"
      ],
      "text/plain": [
       "       ad_id reporting_start reporting_end campaign_id fb_campaign_id    age  \\\n",
       "755  1121584      20/08/2017    20/08/2017        1178         144621  40-44   \n",
       "756  1121585      20/08/2017    20/08/2017        1178         144621  40-44   \n",
       "757  1121589      20/08/2017    20/08/2017        1178         144622  45-49   \n",
       "758  1121590      20/08/2017    20/08/2017        1178         144622  45-49   \n",
       "759  1121592      20/08/2017    20/08/2017        1178         144622  45-49   \n",
       "760  1121593      26/08/2017    26/08/2017        1178         144622  45-49   \n",
       "761  1121594      26/08/2017    26/08/2017       45-49              M     10   \n",
       "762  1121597      30/08/2017    30/08/2017       45-49              M     15   \n",
       "763  1121598      30/08/2017    30/08/2017       45-49              M     15   \n",
       "764  1121599      30/08/2017    30/08/2017       45-49              M     15   \n",
       "\n",
       "    gender  interest1  interest2  interest3   impressions  clicks       spent  \\\n",
       "755      M         66         67         67  3.315400e+04       5    7.880000   \n",
       "756      M         66         72         68  9.773000e+03       1    1.460000   \n",
       "757      M         10         16         11  4.640360e+05      77  123.550000   \n",
       "758      M         10         16         15  4.784800e+05      75  135.750001   \n",
       "759      M         10         14         11  4.288120e+05      66  116.880000   \n",
       "760      M         10         16         16  1.177535e+06     221  365.660001   \n",
       "761     14         14     426500         72  1.282800e+02       4    1.000000   \n",
       "762     21         19      54237          7  1.078000e+01       2    1.000000   \n",
       "763     19         18     506916         89  1.337000e+02       2    2.000000   \n",
       "764     17         18     250960         42  6.488000e+01       2    0.000000   \n",
       "\n",
       "     total_conversion  approved_conversion  \n",
       "755               1.0                  1.0  \n",
       "756               1.0                  0.0  \n",
       "757               3.0                  1.0  \n",
       "758               3.0                  1.0  \n",
       "759               4.0                  2.0  \n",
       "760              15.0                  3.0  \n",
       "761               NaN                  NaN  \n",
       "762               NaN                  NaN  \n",
       "763               NaN                  NaN  \n",
       "764               NaN                  NaN  "
      ]
     },
     "execution_count": 90,
     "metadata": {},
     "output_type": "execute_result"
    }
   ],
   "source": [
    "df[755:765]"
   ]
  },
  {
   "cell_type": "markdown",
   "metadata": {},
   "source": [
    "Data Set was compromised from val 760 on. It inculds columns with misaligned rows with unexpected data types , so Rows 761: are dropped. Analysis was performed on first 760 rows "
   ]
  },
  {
   "cell_type": "code",
   "execution_count": 91,
   "metadata": {},
   "outputs": [],
   "source": [
    "data = pd.read_csv(path +'/data.csv')[:761]"
   ]
  },
  {
   "cell_type": "code",
   "execution_count": 92,
   "metadata": {},
   "outputs": [
    {
     "data": {
      "application/vnd.microsoft.datawrangler.viewer.v0+json": {
       "columns": [
        {
         "name": "index",
         "rawType": "int64",
         "type": "integer"
        },
        {
         "name": "ad_id",
         "rawType": "int64",
         "type": "integer"
        },
        {
         "name": "reporting_start",
         "rawType": "object",
         "type": "string"
        },
        {
         "name": "reporting_end",
         "rawType": "object",
         "type": "string"
        },
        {
         "name": "campaign_id",
         "rawType": "object",
         "type": "string"
        },
        {
         "name": "fb_campaign_id",
         "rawType": "object",
         "type": "string"
        },
        {
         "name": "age",
         "rawType": "object",
         "type": "string"
        },
        {
         "name": "gender",
         "rawType": "object",
         "type": "string"
        },
        {
         "name": "interest1",
         "rawType": "int64",
         "type": "integer"
        },
        {
         "name": "interest2",
         "rawType": "int64",
         "type": "integer"
        },
        {
         "name": "interest3",
         "rawType": "int64",
         "type": "integer"
        },
        {
         "name": "impressions",
         "rawType": "float64",
         "type": "float"
        },
        {
         "name": "clicks",
         "rawType": "int64",
         "type": "integer"
        },
        {
         "name": "spent",
         "rawType": "float64",
         "type": "float"
        },
        {
         "name": "total_conversion",
         "rawType": "float64",
         "type": "float"
        },
        {
         "name": "approved_conversion",
         "rawType": "float64",
         "type": "float"
        }
       ],
       "conversionMethod": "pd.DataFrame",
       "ref": "cf631aa8-1c91-494c-8524-22be311f87ad",
       "rows": [
        [
         "0",
         "708746",
         "17/08/2017",
         "17/08/2017",
         "916",
         "103916",
         "30-34",
         "M",
         "15",
         "17",
         "17",
         "7350.0",
         "1",
         "1.429999948",
         "2.0",
         "1.0"
        ],
        [
         "1",
         "708749",
         "17/08/2017",
         "17/08/2017",
         "916",
         "103917",
         "30-34",
         "M",
         "16",
         "19",
         "21",
         "17861.0",
         "2",
         "1.820000023",
         "2.0",
         "0.0"
        ],
        [
         "2",
         "708771",
         "17/08/2017",
         "17/08/2017",
         "916",
         "103920",
         "30-34",
         "M",
         "20",
         "25",
         "22",
         "693.0",
         "0",
         "0.0",
         "1.0",
         "0.0"
        ],
        [
         "3",
         "708815",
         "30/08/2017",
         "30/08/2017",
         "916",
         "103928",
         "30-34",
         "M",
         "28",
         "32",
         "32",
         "4259.0",
         "1",
         "1.25",
         "1.0",
         "0.0"
        ],
        [
         "4",
         "708818",
         "17/08/2017",
         "17/08/2017",
         "916",
         "103928",
         "30-34",
         "M",
         "28",
         "33",
         "32",
         "4133.0",
         "1",
         "1.289999962",
         "1.0",
         "1.0"
        ]
       ],
       "shape": {
        "columns": 15,
        "rows": 5
       }
      },
      "text/html": [
       "<div>\n",
       "<style scoped>\n",
       "    .dataframe tbody tr th:only-of-type {\n",
       "        vertical-align: middle;\n",
       "    }\n",
       "\n",
       "    .dataframe tbody tr th {\n",
       "        vertical-align: top;\n",
       "    }\n",
       "\n",
       "    .dataframe thead th {\n",
       "        text-align: right;\n",
       "    }\n",
       "</style>\n",
       "<table border=\"1\" class=\"dataframe\">\n",
       "  <thead>\n",
       "    <tr style=\"text-align: right;\">\n",
       "      <th></th>\n",
       "      <th>ad_id</th>\n",
       "      <th>reporting_start</th>\n",
       "      <th>reporting_end</th>\n",
       "      <th>campaign_id</th>\n",
       "      <th>fb_campaign_id</th>\n",
       "      <th>age</th>\n",
       "      <th>gender</th>\n",
       "      <th>interest1</th>\n",
       "      <th>interest2</th>\n",
       "      <th>interest3</th>\n",
       "      <th>impressions</th>\n",
       "      <th>clicks</th>\n",
       "      <th>spent</th>\n",
       "      <th>total_conversion</th>\n",
       "      <th>approved_conversion</th>\n",
       "    </tr>\n",
       "  </thead>\n",
       "  <tbody>\n",
       "    <tr>\n",
       "      <th>0</th>\n",
       "      <td>708746</td>\n",
       "      <td>17/08/2017</td>\n",
       "      <td>17/08/2017</td>\n",
       "      <td>916</td>\n",
       "      <td>103916</td>\n",
       "      <td>30-34</td>\n",
       "      <td>M</td>\n",
       "      <td>15</td>\n",
       "      <td>17</td>\n",
       "      <td>17</td>\n",
       "      <td>7350.0</td>\n",
       "      <td>1</td>\n",
       "      <td>1.43</td>\n",
       "      <td>2.0</td>\n",
       "      <td>1.0</td>\n",
       "    </tr>\n",
       "    <tr>\n",
       "      <th>1</th>\n",
       "      <td>708749</td>\n",
       "      <td>17/08/2017</td>\n",
       "      <td>17/08/2017</td>\n",
       "      <td>916</td>\n",
       "      <td>103917</td>\n",
       "      <td>30-34</td>\n",
       "      <td>M</td>\n",
       "      <td>16</td>\n",
       "      <td>19</td>\n",
       "      <td>21</td>\n",
       "      <td>17861.0</td>\n",
       "      <td>2</td>\n",
       "      <td>1.82</td>\n",
       "      <td>2.0</td>\n",
       "      <td>0.0</td>\n",
       "    </tr>\n",
       "    <tr>\n",
       "      <th>2</th>\n",
       "      <td>708771</td>\n",
       "      <td>17/08/2017</td>\n",
       "      <td>17/08/2017</td>\n",
       "      <td>916</td>\n",
       "      <td>103920</td>\n",
       "      <td>30-34</td>\n",
       "      <td>M</td>\n",
       "      <td>20</td>\n",
       "      <td>25</td>\n",
       "      <td>22</td>\n",
       "      <td>693.0</td>\n",
       "      <td>0</td>\n",
       "      <td>0.00</td>\n",
       "      <td>1.0</td>\n",
       "      <td>0.0</td>\n",
       "    </tr>\n",
       "    <tr>\n",
       "      <th>3</th>\n",
       "      <td>708815</td>\n",
       "      <td>30/08/2017</td>\n",
       "      <td>30/08/2017</td>\n",
       "      <td>916</td>\n",
       "      <td>103928</td>\n",
       "      <td>30-34</td>\n",
       "      <td>M</td>\n",
       "      <td>28</td>\n",
       "      <td>32</td>\n",
       "      <td>32</td>\n",
       "      <td>4259.0</td>\n",
       "      <td>1</td>\n",
       "      <td>1.25</td>\n",
       "      <td>1.0</td>\n",
       "      <td>0.0</td>\n",
       "    </tr>\n",
       "    <tr>\n",
       "      <th>4</th>\n",
       "      <td>708818</td>\n",
       "      <td>17/08/2017</td>\n",
       "      <td>17/08/2017</td>\n",
       "      <td>916</td>\n",
       "      <td>103928</td>\n",
       "      <td>30-34</td>\n",
       "      <td>M</td>\n",
       "      <td>28</td>\n",
       "      <td>33</td>\n",
       "      <td>32</td>\n",
       "      <td>4133.0</td>\n",
       "      <td>1</td>\n",
       "      <td>1.29</td>\n",
       "      <td>1.0</td>\n",
       "      <td>1.0</td>\n",
       "    </tr>\n",
       "  </tbody>\n",
       "</table>\n",
       "</div>"
      ],
      "text/plain": [
       "    ad_id reporting_start reporting_end campaign_id fb_campaign_id    age  \\\n",
       "0  708746      17/08/2017    17/08/2017         916         103916  30-34   \n",
       "1  708749      17/08/2017    17/08/2017         916         103917  30-34   \n",
       "2  708771      17/08/2017    17/08/2017         916         103920  30-34   \n",
       "3  708815      30/08/2017    30/08/2017         916         103928  30-34   \n",
       "4  708818      17/08/2017    17/08/2017         916         103928  30-34   \n",
       "\n",
       "  gender  interest1  interest2  interest3  impressions  clicks  spent  \\\n",
       "0      M         15         17         17       7350.0       1   1.43   \n",
       "1      M         16         19         21      17861.0       2   1.82   \n",
       "2      M         20         25         22        693.0       0   0.00   \n",
       "3      M         28         32         32       4259.0       1   1.25   \n",
       "4      M         28         33         32       4133.0       1   1.29   \n",
       "\n",
       "   total_conversion  approved_conversion  \n",
       "0               2.0                  1.0  \n",
       "1               2.0                  0.0  \n",
       "2               1.0                  0.0  \n",
       "3               1.0                  0.0  \n",
       "4               1.0                  1.0  "
      ]
     },
     "execution_count": 92,
     "metadata": {},
     "output_type": "execute_result"
    }
   ],
   "source": [
    "data.head()"
   ]
  },
  {
   "cell_type": "markdown",
   "metadata": {},
   "source": [
    "## Exploritory Data Analysis"
   ]
  },
  {
   "cell_type": "code",
   "execution_count": 93,
   "metadata": {},
   "outputs": [
    {
     "name": "stdout",
     "output_type": "stream",
     "text": [
      "<class 'pandas.core.frame.DataFrame'>\n",
      "RangeIndex: 761 entries, 0 to 760\n",
      "Data columns (total 15 columns):\n",
      " #   Column               Non-Null Count  Dtype  \n",
      "---  ------               --------------  -----  \n",
      " 0   ad_id                761 non-null    int64  \n",
      " 1   reporting_start      761 non-null    object \n",
      " 2   reporting_end        761 non-null    object \n",
      " 3   campaign_id          761 non-null    object \n",
      " 4   fb_campaign_id       761 non-null    object \n",
      " 5   age                  761 non-null    object \n",
      " 6   gender               761 non-null    object \n",
      " 7   interest1            761 non-null    int64  \n",
      " 8   interest2            761 non-null    int64  \n",
      " 9   interest3            761 non-null    int64  \n",
      " 10  impressions          761 non-null    float64\n",
      " 11  clicks               761 non-null    int64  \n",
      " 12  spent                761 non-null    float64\n",
      " 13  total_conversion     761 non-null    float64\n",
      " 14  approved_conversion  761 non-null    float64\n",
      "dtypes: float64(4), int64(5), object(6)\n",
      "memory usage: 89.3+ KB\n"
     ]
    }
   ],
   "source": [
    "data.info()"
   ]
  },
  {
   "cell_type": "code",
   "execution_count": 94,
   "metadata": {},
   "outputs": [
    {
     "data": {
      "application/vnd.microsoft.datawrangler.viewer.v0+json": {
       "columns": [
        {
         "name": "index",
         "rawType": "object",
         "type": "string"
        },
        {
         "name": "ad_id",
         "rawType": "float64",
         "type": "float"
        },
        {
         "name": "interest1",
         "rawType": "float64",
         "type": "float"
        },
        {
         "name": "interest2",
         "rawType": "float64",
         "type": "float"
        },
        {
         "name": "interest3",
         "rawType": "float64",
         "type": "float"
        },
        {
         "name": "impressions",
         "rawType": "float64",
         "type": "float"
        },
        {
         "name": "clicks",
         "rawType": "float64",
         "type": "float"
        },
        {
         "name": "spent",
         "rawType": "float64",
         "type": "float"
        },
        {
         "name": "total_conversion",
         "rawType": "float64",
         "type": "float"
        },
        {
         "name": "approved_conversion",
         "rawType": "float64",
         "type": "float"
        }
       ],
       "conversionMethod": "pd.DataFrame",
       "ref": "d5f296b5-2de8-4a44-a910-badd6cf5bc4e",
       "rows": [
        [
         "count",
         "761.0",
         "761.0",
         "761.0",
         "761.0",
         "761.0",
         "761.0",
         "761.0",
         "761.0",
         "761.0"
        ],
        [
         "mean",
         "895638.8751642576",
         "25.473061760841",
         "28.97766097240473",
         "28.984231274638635",
         "103171.60052562418",
         "15.340341655716163",
         "25.782181336767408",
         "2.161629434954008",
         "0.7687253613666228"
        ],
        [
         "std",
         "167093.69589979004",
         "15.508898030269131",
         "15.607547947797679",
         "15.60481583793654",
         "246264.35574605432",
         "32.7157384367534",
         "57.62233405997149",
         "4.062200528152442",
         "1.656445013782498"
        ],
        [
         "min",
         "708746.0",
         "2.0",
         "3.0",
         "3.0",
         "87.0",
         "0.0",
         "0.0",
         "0.0",
         "0.0"
        ],
        [
         "25%",
         "748086.0",
         "16.0",
         "19.0",
         "19.0",
         "3149.0",
         "0.0",
         "0.0",
         "1.0",
         "0.0"
        ],
        [
         "50%",
         "781175.0",
         "22.0",
         "26.0",
         "25.0",
         "12193.0",
         "3.0",
         "3.579999924",
         "1.0",
         "0.0"
        ],
        [
         "75%",
         "1121184.0",
         "29.0",
         "33.0",
         "33.0",
         "85970.0",
         "14.0",
         "23.2099998",
         "2.0",
         "1.0"
        ],
        [
         "max",
         "1121593.0",
         "66.0",
         "72.0",
         "72.0",
         "3052003.0",
         "340.0",
         "639.9499981",
         "60.0",
         "21.0"
        ]
       ],
       "shape": {
        "columns": 9,
        "rows": 8
       }
      },
      "text/html": [
       "<div>\n",
       "<style scoped>\n",
       "    .dataframe tbody tr th:only-of-type {\n",
       "        vertical-align: middle;\n",
       "    }\n",
       "\n",
       "    .dataframe tbody tr th {\n",
       "        vertical-align: top;\n",
       "    }\n",
       "\n",
       "    .dataframe thead th {\n",
       "        text-align: right;\n",
       "    }\n",
       "</style>\n",
       "<table border=\"1\" class=\"dataframe\">\n",
       "  <thead>\n",
       "    <tr style=\"text-align: right;\">\n",
       "      <th></th>\n",
       "      <th>ad_id</th>\n",
       "      <th>interest1</th>\n",
       "      <th>interest2</th>\n",
       "      <th>interest3</th>\n",
       "      <th>impressions</th>\n",
       "      <th>clicks</th>\n",
       "      <th>spent</th>\n",
       "      <th>total_conversion</th>\n",
       "      <th>approved_conversion</th>\n",
       "    </tr>\n",
       "  </thead>\n",
       "  <tbody>\n",
       "    <tr>\n",
       "      <th>count</th>\n",
       "      <td>7.610000e+02</td>\n",
       "      <td>761.000000</td>\n",
       "      <td>761.000000</td>\n",
       "      <td>761.000000</td>\n",
       "      <td>7.610000e+02</td>\n",
       "      <td>761.000000</td>\n",
       "      <td>761.000000</td>\n",
       "      <td>761.000000</td>\n",
       "      <td>761.000000</td>\n",
       "    </tr>\n",
       "    <tr>\n",
       "      <th>mean</th>\n",
       "      <td>8.956389e+05</td>\n",
       "      <td>25.473062</td>\n",
       "      <td>28.977661</td>\n",
       "      <td>28.984231</td>\n",
       "      <td>1.031716e+05</td>\n",
       "      <td>15.340342</td>\n",
       "      <td>25.782181</td>\n",
       "      <td>2.161629</td>\n",
       "      <td>0.768725</td>\n",
       "    </tr>\n",
       "    <tr>\n",
       "      <th>std</th>\n",
       "      <td>1.670937e+05</td>\n",
       "      <td>15.508898</td>\n",
       "      <td>15.607548</td>\n",
       "      <td>15.604816</td>\n",
       "      <td>2.462644e+05</td>\n",
       "      <td>32.715738</td>\n",
       "      <td>57.622334</td>\n",
       "      <td>4.062201</td>\n",
       "      <td>1.656445</td>\n",
       "    </tr>\n",
       "    <tr>\n",
       "      <th>min</th>\n",
       "      <td>7.087460e+05</td>\n",
       "      <td>2.000000</td>\n",
       "      <td>3.000000</td>\n",
       "      <td>3.000000</td>\n",
       "      <td>8.700000e+01</td>\n",
       "      <td>0.000000</td>\n",
       "      <td>0.000000</td>\n",
       "      <td>0.000000</td>\n",
       "      <td>0.000000</td>\n",
       "    </tr>\n",
       "    <tr>\n",
       "      <th>25%</th>\n",
       "      <td>7.480860e+05</td>\n",
       "      <td>16.000000</td>\n",
       "      <td>19.000000</td>\n",
       "      <td>19.000000</td>\n",
       "      <td>3.149000e+03</td>\n",
       "      <td>0.000000</td>\n",
       "      <td>0.000000</td>\n",
       "      <td>1.000000</td>\n",
       "      <td>0.000000</td>\n",
       "    </tr>\n",
       "    <tr>\n",
       "      <th>50%</th>\n",
       "      <td>7.811750e+05</td>\n",
       "      <td>22.000000</td>\n",
       "      <td>26.000000</td>\n",
       "      <td>25.000000</td>\n",
       "      <td>1.219300e+04</td>\n",
       "      <td>3.000000</td>\n",
       "      <td>3.580000</td>\n",
       "      <td>1.000000</td>\n",
       "      <td>0.000000</td>\n",
       "    </tr>\n",
       "    <tr>\n",
       "      <th>75%</th>\n",
       "      <td>1.121184e+06</td>\n",
       "      <td>29.000000</td>\n",
       "      <td>33.000000</td>\n",
       "      <td>33.000000</td>\n",
       "      <td>8.597000e+04</td>\n",
       "      <td>14.000000</td>\n",
       "      <td>23.210000</td>\n",
       "      <td>2.000000</td>\n",
       "      <td>1.000000</td>\n",
       "    </tr>\n",
       "    <tr>\n",
       "      <th>max</th>\n",
       "      <td>1.121593e+06</td>\n",
       "      <td>66.000000</td>\n",
       "      <td>72.000000</td>\n",
       "      <td>72.000000</td>\n",
       "      <td>3.052003e+06</td>\n",
       "      <td>340.000000</td>\n",
       "      <td>639.949998</td>\n",
       "      <td>60.000000</td>\n",
       "      <td>21.000000</td>\n",
       "    </tr>\n",
       "  </tbody>\n",
       "</table>\n",
       "</div>"
      ],
      "text/plain": [
       "              ad_id   interest1   interest2   interest3   impressions  \\\n",
       "count  7.610000e+02  761.000000  761.000000  761.000000  7.610000e+02   \n",
       "mean   8.956389e+05   25.473062   28.977661   28.984231  1.031716e+05   \n",
       "std    1.670937e+05   15.508898   15.607548   15.604816  2.462644e+05   \n",
       "min    7.087460e+05    2.000000    3.000000    3.000000  8.700000e+01   \n",
       "25%    7.480860e+05   16.000000   19.000000   19.000000  3.149000e+03   \n",
       "50%    7.811750e+05   22.000000   26.000000   25.000000  1.219300e+04   \n",
       "75%    1.121184e+06   29.000000   33.000000   33.000000  8.597000e+04   \n",
       "max    1.121593e+06   66.000000   72.000000   72.000000  3.052003e+06   \n",
       "\n",
       "           clicks       spent  total_conversion  approved_conversion  \n",
       "count  761.000000  761.000000        761.000000           761.000000  \n",
       "mean    15.340342   25.782181          2.161629             0.768725  \n",
       "std     32.715738   57.622334          4.062201             1.656445  \n",
       "min      0.000000    0.000000          0.000000             0.000000  \n",
       "25%      0.000000    0.000000          1.000000             0.000000  \n",
       "50%      3.000000    3.580000          1.000000             0.000000  \n",
       "75%     14.000000   23.210000          2.000000             1.000000  \n",
       "max    340.000000  639.949998         60.000000            21.000000  "
      ]
     },
     "execution_count": 94,
     "metadata": {},
     "output_type": "execute_result"
    }
   ],
   "source": [
    "data.describe()"
   ]
  },
  {
   "cell_type": "code",
   "execution_count": 95,
   "metadata": {},
   "outputs": [
    {
     "data": {
      "text/plain": [
       "campaign_id\n",
       "936     464\n",
       "1178    243\n",
       "916      54\n",
       "Name: count, dtype: int64"
      ]
     },
     "execution_count": 95,
     "metadata": {},
     "output_type": "execute_result"
    }
   ],
   "source": [
    "data.campaign_id.value_counts()"
   ]
  },
  {
   "cell_type": "markdown",
   "metadata": {},
   "source": [
    "There are 3 campaigns that were used: 1178, 936, 916"
   ]
  },
  {
   "cell_type": "code",
   "execution_count": 96,
   "metadata": {},
   "outputs": [
    {
     "data": {
      "text/plain": [
       "array(['M', 'F'], dtype=object)"
      ]
     },
     "execution_count": 96,
     "metadata": {},
     "output_type": "execute_result"
    }
   ],
   "source": [
    "data['gender'].unique()"
   ]
  },
  {
   "cell_type": "markdown",
   "metadata": {},
   "source": [
    "There are 2 gender's present for this case study"
   ]
  },
  {
   "cell_type": "code",
   "execution_count": 97,
   "metadata": {},
   "outputs": [
    {
     "data": {
      "text/plain": [
       "array(['30-34', '35-39', '40-44', '45-49'], dtype=object)"
      ]
     },
     "execution_count": 97,
     "metadata": {},
     "output_type": "execute_result"
    }
   ],
   "source": [
    "data['age'].unique()"
   ]
  },
  {
   "cell_type": "markdown",
   "metadata": {},
   "source": [
    "4 Age group of demographics were identified for this cae study "
   ]
  },
  {
   "cell_type": "code",
   "execution_count": 98,
   "metadata": {},
   "outputs": [
    {
     "name": "stderr",
     "output_type": "stream",
     "text": [
      "No artists with labels found to put in legend.  Note that artists whose label start with an underscore are ignored when legend() is called with no argument.\n"
     ]
    },
    {
     "data": {
      "image/png": "[encoded data removed]",
      "text/plain": [
       "<Figure size 1200x800 with 20 Axes>"
      ]
     },
     "metadata": {},
     "output_type": "display_data"
    }
   ],
   "source": [
    "sb.set_style(\"whitegrid\")\n",
    "num_cols = ['impressions', 'clicks', 'spent', 'total_conversion', 'approved_conversion']\n",
    "pairplot = sb.pairplot(data[num_cols + ['campaign_id']], hue='campaign_id', \n",
    "                        palette=\"husl\", diag_kind=\"kde\", corner=True)\n",
    "pairplot.figure.set_size_inches(12, 8)\n",
    "plt.legend(title=\"Campaign ID\", loc='upper right', bbox_to_anchor=(1.2, 1))\n",
    "plt.show()\n"
   ]
  },
  {
   "cell_type": "code",
   "execution_count": 99,
   "metadata": {},
   "outputs": [
    {
     "data": {
      "image/png": "[encoded data removed]",
      "text/plain": [
       "<Figure size 1000x600 with 1 Axes>"
      ]
     },
     "metadata": {},
     "output_type": "display_data"
    }
   ],
   "source": [
    "pastel_colors = {\"M\": \"#A7C7E7\", \"F\": \"#FFB6C1\"}  # Soft blue for males, soft pink for females\n",
    "plt.figure(figsize=(10, 6))\n",
    "# Create stacked bar chart for age distribution, colored by gender\n",
    "sb.countplot(data=data, x='age', hue='gender', palette=pastel_colors, dodge=False)\n",
    "plt.title(\"Age Distribution Stacked by Gender\", fontsize=14, fontweight='bold')\n",
    "plt.xlabel(\"Age Group\", fontsize=12)\n",
    "plt.ylabel(\"Count\", fontsize=12)\n",
    "plt.xticks(rotation=45)\n",
    "plt.grid(axis='y', linestyle='--', alpha=0.6)\n",
    "plt.show()\n"
   ]
  },
  {
   "cell_type": "markdown",
   "metadata": {},
   "source": [
    "Gender distribution between age groups is pretty consistent, however ages 45-49 are majority female users. "
   ]
  },
  {
   "cell_type": "markdown",
   "metadata": {},
   "source": [
    "Metrics from the dataset were chosen to evaluate:\n",
    "**'Spent'** as a cost metric\n",
    "**'Clicks'** as a engagement metric\n",
    "**'Conversion'** as a metric to determine how many users took action.\n",
    "\n",
    "These are also used to forumlate our KPI metric later. "
   ]
  },
  {
   "cell_type": "code",
   "execution_count": 100,
   "metadata": {},
   "outputs": [],
   "source": [
    "metrics = ['spent', 'clicks', 'total_conversion']"
   ]
  },
  {
   "cell_type": "code",
   "execution_count": 101,
   "metadata": {},
   "outputs": [],
   "source": [
    "#Adding Campaign IDs to a list\n",
    "campaign_ids = data['campaign_id'].unique().tolist()"
   ]
  },
  {
   "cell_type": "code",
   "execution_count": 102,
   "metadata": {},
   "outputs": [
    {
     "data": {
      "image/png": "[encoded data removed]",
      "text/plain": [
       "<Figure size 1200x600 with 3 Axes>"
      ]
     },
     "metadata": {},
     "output_type": "display_data"
    }
   ],
   "source": [
    "# Create subplots for each metric\n",
    "fig, axes = plt.subplots(1, len(metrics), figsize=(12, 6))\n",
    "for i, metric in enumerate(metrics): \n",
    "    sb.barplot(data=data, x='campaign_id', y=metric, hue='gender', ax=axes[i], \n",
    "               dodge=False, palette=pastel_colors)  # Stacked bars\n",
    "    \n",
    "    axes[i].set_title(f\"{metric.capitalize()} per Campaign (Stacked by Gender)\")\n",
    "    axes[i].set_xlabel(\"Campaign ID\")\n",
    "    axes[i].set_ylabel(metric.capitalize())\n",
    "plt.tight_layout()\n",
    "plt.show()\n"
   ]
  },
  {
   "cell_type": "code",
   "execution_count": 103,
   "metadata": {},
   "outputs": [
    {
     "data": {
      "image/png": "[encoded data removed]",
      "text/plain": [
       "<Figure size 1200x600 with 3 Axes>"
      ]
     },
     "metadata": {},
     "output_type": "display_data"
    }
   ],
   "source": [
    "fig, axes = plt.subplots(1, len(metrics), figsize=(12, 6))\n",
    "for  i, metric in enumerate(metrics): \n",
    "    sb.barplot(data, x= 'gender', y=metric, hue = 'gender', palette=pastel_colors, ax=axes[i])\n",
    "    axes[i].set_title(f\"{metric.capitalize()} per gender\")\n",
    "    axes[i].set_xlabel(\"Gender\")\n",
    "    axes[i].set_ylabel(metric.capitalize())"
   ]
  },
  {
   "cell_type": "markdown",
   "metadata": {},
   "source": [
    "### Campaign Performance by Gender \n",
    "1. Males (M) accounted for majority of ad spending across all campaigns.\n",
    "2. Campaign 1178 has the highest spent with alot allocated to M. \n",
    "3. Female spending remains low across all campaigns. \n",
    "4. Females show lower engagement in clicks and conversion rates but still remain stable across campaigns.\n",
    "\n",
    "\n",
    "Futher investigation on why males show significantly higher engagement and coversion rate should be explored. \n"
   ]
  },
  {
   "cell_type": "code",
   "execution_count": 119,
   "metadata": {},
   "outputs": [
    {
     "data": {
      "image/png": "[encoded data removed]",
      "text/plain": [
       "<Figure size 1200x600 with 3 Axes>"
      ]
     },
     "metadata": {},
     "output_type": "display_data"
    }
   ],
   "source": [
    "# Define pastel colors for different age groups\n",
    "pastel_age_colors = sb.color_palette(\"pastel\", n_colors=len(data['age'].unique()))\n",
    "\n",
    "# Create subplots for each metric\n",
    "fig, axes = plt.subplots(1, len(metrics), figsize=(12, 6))\n",
    "\n",
    "# Loop through each metric and create a stacked barplot by age\n",
    "for i, metric in enumerate(metrics): \n",
    "    sb.boxplot(data=data, x='campaign_id', y=metric, hue='age', ax=axes[i], \n",
    "               dodge=False, palette=pastel_age_colors)  # Stacked bars by age\n",
    "    \n",
    "    axes[i].set_title(f\"{metric.capitalize()} per Campaign (Stacked by Age)\")\n",
    "    axes[i].set_xlabel(\"Campaign ID\")\n",
    "    axes[i].set_ylabel(metric.capitalize())\n",
    "\n",
    "# Adjust layout for better spacing\n",
    "plt.tight_layout()\n",
    "plt.show()"
   ]
  },
  {
   "cell_type": "markdown",
   "metadata": {},
   "source": [
    "### Campaign Performance Analysis by Age Group\n",
    "\n",
    "1. Campaign 1178 has highest variance and in ad spent across age groups \n",
    "2. Age **45-49** age group (remember this gorup is largely F users) has highest spend across all campaigns, and has the highest conversion \n",
    "3. The presence of extreme outliers in all three metrics suggest a skewed distribution : while som eusers engage heavily some may not. \n",
    "4. More investigation/ refinement towards targeting **45-49** age groups as they are the most engaged and likely to convert. "
   ]
  },
  {
   "cell_type": "markdown",
   "metadata": {},
   "source": [
    "The **Click-Through Rate (CTR)** is calculated as:\n",
    "\n",
    "\\[$$CTR = \\frac{\\text{Clicks}}{\\text{Impressions}} \\times 100$$\\]\n",
    "\n",
    "This represents the percentage of users who clicked on an ad after seeing it. This is a KPI that measures enagement effectiveness.\n"
   ]
  },
  {
   "cell_type": "code",
   "execution_count": 120,
   "metadata": {},
   "outputs": [],
   "source": [
    "data['CTR']= (data['clicks']/data['impressions']) * 100"
   ]
  },
  {
   "cell_type": "markdown",
   "metadata": {},
   "source": [
    "## A/B test between Campaigns on CTR"
   ]
  },
  {
   "cell_type": "code",
   "execution_count": 121,
   "metadata": {},
   "outputs": [
    {
     "data": {
      "image/png": "[encoded data removed]",
      "text/plain": [
       "<Figure size 1000x600 with 1 Axes>"
      ]
     },
     "metadata": {},
     "output_type": "display_data"
    }
   ],
   "source": [
    "plt.figure(figsize=(10, 6))\n",
    "\n",
    "# Create stacked bar chart for CTR per gender\n",
    "sb.barplot(data=data, x='campaign_id', y='CTR', hue='gender', \n",
    "           dodge=False, palette=pastel_colors)\n",
    "\n",
    "# Improve aesthetics\n",
    "plt.title(\"CTR per Campaign (Stacked by Gender)\", fontsize=14, fontweight='bold')\n",
    "plt.xlabel(\"Campaign ID\", fontsize=12)\n",
    "plt.ylabel(\"Click-Through Rate (CTR)\", fontsize=12)\n",
    "plt.xticks(rotation=45)\n",
    "plt.grid(axis='y', linestyle='--', alpha=0.6)\n",
    "\n",
    "# Show plot\n",
    "plt.show()"
   ]
  },
  {
   "cell_type": "markdown",
   "metadata": {},
   "source": [
    "Checking for Normalcy using Shapiro-Wilk "
   ]
  },
  {
   "cell_type": "code",
   "execution_count": 122,
   "metadata": {},
   "outputs": [
    {
     "name": "stdout",
     "output_type": "stream",
     "text": [
      "Campaign 916: Shapiro-Wilk p-value = 0.0001\n",
      "Campaign 936: Shapiro-Wilk p-value = 0.0000\n",
      "Campaign 1178: Shapiro-Wilk p-value = 0.0000\n"
     ]
    }
   ],
   "source": [
    "for campaign in campaign_ids:\n",
    "    stat, p_value = stats.shapiro(data[data[\"campaign_id\"] == campaign][\"CTR\"])\n",
    "    print(f\"Campaign {campaign}: Shapiro-Wilk p-value = {p_value:.4f}\")"
   ]
  },
  {
   "cell_type": "code",
   "execution_count": null,
   "metadata": {},
   "outputs": [
    {
     "name": "stdout",
     "output_type": "stream",
     "text": [
      "Kruskal-Wallis test p-value = 0.0049\n",
      "🔴 There is a significant difference in CTR between campaigns.\n"
     ]
    }
   ],
   "source": [
    "kruskal_stat, kruskal_p = stats.kruskal(\n",
    "    *[data[data[\"campaign_id\"] == cid][\"CTR\"] for cid in campaign_ids]\n",
    ")\n",
    "print(f\"Kruskal-Wallis test p-value = {kruskal_p:.4f}\")\n",
    "\n",
    "if kruskal_p < 0.05:\n",
    "    print(\"There is a significant difference in CTR between campaigns.\")\n",
    "else:\n",
    "    print(\"No significant difference in CTR between campaigns.\")"
   ]
  },
  {
   "cell_type": "code",
   "execution_count": 124,
   "metadata": {},
   "outputs": [
    {
     "name": "stdout",
     "output_type": "stream",
     "text": [
      "  campaign_id  CTR_mean  clicks_sum  impressions_sum  CTR_variance  \\\n",
      "0        1178  0.012854        9577       69902476.0  1.815190e-10   \n",
      "1         916  0.018015         113         482925.0  3.663133e-08   \n",
      "2         936  0.016502        1984        8128187.0  1.996657e-09   \n",
      "\n",
      "   CTR_std_error  \n",
      "0       0.000013  \n",
      "1       0.000191  \n",
      "2       0.000045  \n",
      "Comparison: Campaign 1178 vs Campaign 916\n",
      "Z-score: -26.8982, P-value: 0.0000\n",
      "🔴 Significant difference in CTRs\n",
      "--------------------------------------------------\n",
      "Comparison: Campaign 1178 vs Campaign 936\n",
      "Z-score: -78.1568, P-value: 0.0000\n",
      "🔴 Significant difference in CTRs\n",
      "--------------------------------------------------\n",
      "Comparison: Campaign 916 vs Campaign 936\n",
      "Z-score: 7.6993, P-value: 0.0000\n",
      "🔴 Significant difference in CTRs\n",
      "--------------------------------------------------\n"
     ]
    }
   ],
   "source": [
    "# Compute CTR, Variance (Delta Method) for each campaign\n",
    "campaign_stats = data.groupby(\"campaign_id\").agg(\n",
    "    CTR_mean=(\"CTR\", \"mean\"),\n",
    "    clicks_sum=(\"clicks\", \"sum\"),\n",
    "    impressions_sum=(\"impressions\", \"sum\")\n",
    ").reset_index()\n",
    "\n",
    "# Delta method approximation for variance\n",
    "campaign_stats[\"CTR_variance\"] = (campaign_stats[\"CTR_mean\"] * (1 - campaign_stats[\"CTR_mean\"])) / campaign_stats[\"impressions_sum\"]\n",
    "\n",
    "campaign_stats[\"CTR_std_error\"] = np.sqrt(campaign_stats[\"CTR_variance\"])\n",
    "\n",
    "# Print estimated CTR means and standard errors\n",
    "print(campaign_stats)\n",
    "def z_test(ctr1, ctr2, se1, se2):\n",
    "    z_score = (ctr1 - ctr2) / np.sqrt(se1**2 + se2**2)\n",
    "    p_value = 2 * (1 - stats.norm.cdf(abs(z_score))) # Two tailed test\n",
    "    return z_score, p_value\n",
    "\n",
    "campaign_pairs = [(campaign_stats.iloc[i], campaign_stats.iloc[j]) for i in range(len(campaign_stats)) for j in range(i+1, len(campaign_stats))]\n",
    "\n",
    "for c1, c2 in campaign_pairs:\n",
    "    z, p = z_test(c1[\"CTR_mean\"], c2[\"CTR_mean\"], c1[\"CTR_std_error\"], c2[\"CTR_std_error\"])\n",
    "    print(f\"Comparison: Campaign {c1['campaign_id']} vs Campaign {c2['campaign_id']}\")\n",
    "    print(f\"Z-score: {z:.4f}, P-value: {p:.4f}\")\n",
    "    if p < 0.05:\n",
    "        print(\"Significant difference in CTRs\")\n",
    "    else:\n",
    "        print(\"No significant difference in CTRs\")\n",
    "    print(\"-\" * 50)"
   ]
  },
  {
   "cell_type": "markdown",
   "metadata": {},
   "source": [
    "Campaign 1178 has a significantly lower CTR than 916 and 936. This suggests that its targeting, messaging, or ad design may not be as effective. Budget reccomendations are suggested to optimize spending and CTR.\n",
    "\n",
    "Futher Analysis is to be done on between Gender Differences in CTR given the uneveness of gender between the capaign ids."
   ]
  },
  {
   "cell_type": "markdown",
   "metadata": {},
   "source": [
    "## A/B test between Gender on CTR"
   ]
  },
  {
   "cell_type": "code",
   "execution_count": 125,
   "metadata": {},
   "outputs": [
    {
     "data": {
      "text/plain": [
       "<Axes: xlabel='gender', ylabel='CTR'>"
      ]
     },
     "execution_count": 125,
     "metadata": {},
     "output_type": "execute_result"
    },
    {
     "data": {
      "image/png": "[encoded data removed]",
      "text/plain": [
       "<Figure size 640x480 with 1 Axes>"
      ]
     },
     "metadata": {},
     "output_type": "display_data"
    }
   ],
   "source": [
    "sb.barplot(data, x='gender', y = 'CTR', hue='gender' ,palette=pastel_colors)"
   ]
  },
  {
   "cell_type": "code",
   "execution_count": 127,
   "metadata": {},
   "outputs": [
    {
     "name": "stdout",
     "output_type": "stream",
     "text": [
      "Shapiro-Wilk Test for Male CTR: p-value = 3.988559358954938e-18\n",
      "Shapiro-Wilk Test for Female CTR: p-value = 1.8043290664073437e-13\n"
     ]
    }
   ],
   "source": [
    "male_ctr = data[data['gender'] == 'M']['CTR']\n",
    "female_ctr = data[data['gender'] == 'F']['CTR']\n",
    "\n",
    "stat_m, p_m = stats.shapiro(male_ctr)\n",
    "stat_f, p_f = stats.shapiro(female_ctr)\n",
    "\n",
    "print(f\"Shapiro-Wilk Test for Male CTR: p-value = {p_m}\")\n",
    "print(f\"Shapiro-Wilk Test for Female CTR: p-value = {p_f}\")"
   ]
  },
  {
   "cell_type": "markdown",
   "metadata": {},
   "source": [
    "Failed Normalcy Test, therefore use ManUWitney as test statistic."
   ]
  },
  {
   "cell_type": "code",
   "execution_count": null,
   "metadata": {},
   "outputs": [
    {
     "name": "stdout",
     "output_type": "stream",
     "text": [
      "Mann-Whitney U Test Results: U-statistic = 50333.5, p-value = 1.0952793997452783e-08\n",
      "The CTR difference between male and female is statistically significant.\n"
     ]
    }
   ],
   "source": [
    "# Extract CTR values for each gender\n",
    "male_ctr = data[data['gender'] == 'M']['CTR']\n",
    "female_ctr = data[data['gender'] == 'F']['CTR']\n",
    "\n",
    "# Perform Mann-Whitney U test\n",
    "u_stat, p_value = stats.mannwhitneyu(male_ctr, female_ctr, alternative='two-sided')\n",
    "\n",
    "print(f\"Mann-Whitney U Test Results: U-statistic = {u_stat}, p-value = {p_value}\")\n",
    "\n",
    "# Interpretation\n",
    "if p_value < 0.05:\n",
    "    print(\"The CTR difference between male and female is statistically significant.\")\n",
    "else:\n",
    "    print(\"No significant difference in CTR between male and female.\")\n"
   ]
  },
  {
   "cell_type": "markdown",
   "metadata": {},
   "source": [
    "### CTR Analysis by Gender\n",
    "\n",
    "1. Females(F) have significantly higher CTR than Males (M), suggesting that they egage more with ad content compared with Males.\n",
    "2. Despite higher ad spend and clicks from male audiences in previous graphs, they convert less effectively in terms of CTR.\n",
    "3. Female users may be more receptive to the campaign messaging, leading to higher engagement despite lower total ad spend.\n",
    "4. Campaign optimizations should focus on improving male engagement, as they represent a **costly but inefficient audience**.\n",
    "5. Increased spending on Female user ad campaigns could tap into the higher Female CTR market.  "
   ]
  },
  {
   "cell_type": "markdown",
   "metadata": {},
   "source": [
    "## Brief Segmentation Analysis on Interest Ids"
   ]
  },
  {
   "cell_type": "code",
   "execution_count": 129,
   "metadata": {},
   "outputs": [],
   "source": [
    "# Convert wide format to long format (each interest column becomes a row)\n",
    "data_long = data.melt(id_vars=['ad_id', 'campaign_id', 'clicks', 'impressions', 'total_conversion', 'gender'],\n",
    "                      value_vars=['interest1', 'interest2', 'interest3'],\n",
    "                      var_name='interest_type',\n",
    "                      value_name='interest')\n",
    "\n",
    "# Group by interest and compute CTR & Conversion Rate\n",
    "interest_analysis = data_long.groupby('interest').agg(\n",
    "    impressions_sum=('impressions', 'sum'),\n",
    "    clicks_sum=('clicks', 'sum'),\n",
    "    total_conversion_sum=('total_conversion', 'sum'),\n",
    "    gender_sum=('gender', 'sum')\n",
    ").reset_index()\n",
    "\n",
    "# Compute CTR and Conversion Rate\n",
    "interest_analysis['CTR'] = (interest_analysis['clicks_sum'] / interest_analysis['impressions_sum']) * 100\n",
    "interest_analysis['Conversion Rate'] = (interest_analysis['total_conversion_sum'] / interest_analysis['clicks_sum']) * 100\n"
   ]
  },
  {
   "cell_type": "code",
   "execution_count": 130,
   "metadata": {},
   "outputs": [
    {
     "data": {
      "application/vnd.microsoft.datawrangler.viewer.v0+json": {
       "columns": [
        {
         "name": "index",
         "rawType": "int64",
         "type": "integer"
        },
        {
         "name": "interest",
         "rawType": "int64",
         "type": "integer"
        },
        {
         "name": "impressions_sum",
         "rawType": "float64",
         "type": "float"
        },
        {
         "name": "clicks_sum",
         "rawType": "int64",
         "type": "integer"
        },
        {
         "name": "total_conversion_sum",
         "rawType": "float64",
         "type": "float"
        },
        {
         "name": "gender_sum",
         "rawType": "object",
         "type": "string"
        },
        {
         "name": "CTR",
         "rawType": "float64",
         "type": "float"
        },
        {
         "name": "Conversion Rate",
         "rawType": "float64",
         "type": "float"
        }
       ],
       "conversionMethod": "pd.DataFrame",
       "ref": "e4d0c571-2502-4fa4-80d4-3d211d48169c",
       "rows": [
        [
         "0",
         "2",
         "1329050.0",
         "229",
         "32.0",
         "MMFMMMFMMMMMMMMMMM",
         "0.01723035250743012",
         "13.973799126637553"
        ],
        [
         "1",
         "3",
         "367910.0",
         "65",
         "7.0",
         "FMMMM",
         "0.017667364301051886",
         "10.76923076923077"
        ],
        [
         "2",
         "4",
         "215564.0",
         "32",
         "12.0",
         "MMFMMMM",
         "0.014844779276688128",
         "37.5"
        ],
        [
         "3",
         "5",
         "884901.0",
         "155",
         "15.0",
         "MMMMM",
         "0.017516083720099763",
         "9.67741935483871"
        ],
        [
         "4",
         "6",
         "272838.0",
         "51",
         "6.0",
         "MMMFM",
         "0.018692410881182238",
         "11.76470588235294"
        ],
        [
         "5",
         "7",
         "2560915.0",
         "379",
         "66.0",
         "MMFMFMFMMFMMMMMMMMMMMMMFMMMM",
         "0.01479939787146391",
         "17.41424802110818"
        ],
        [
         "6",
         "8",
         "441704.0",
         "72",
         "8.0",
         "MMMMMM",
         "0.016300508938112402",
         "11.11111111111111"
        ],
        [
         "7",
         "9",
         "755668.0",
         "118",
         "12.0",
         "FMFMMMMFMM",
         "0.01561532313132222",
         "10.16949152542373"
        ],
        [
         "8",
         "10",
         "11280033.0",
         "1656",
         "217.0",
         "FFMMMFFFMFFMMMFFFFFMFMMMMMMFMMFFFFFFMFFMMMFFFFFFFFMMMMMMMMMMMMMMMMMMMFMMMMMFMM",
         "0.01468080811465711",
         "13.103864734299517"
        ],
        [
         "9",
         "11",
         "5082385.0",
         "722",
         "90.0",
         "MFMMMFMMMMMFFFMMMFFFFMMMMM",
         "0.014205928909360468",
         "12.465373961218837"
        ],
        [
         "10",
         "12",
         "2962468.0",
         "435",
         "59.0",
         "MMFFFFMFFFMMFFFFMMMFMMM",
         "0.014683702912571546",
         "13.563218390804598"
        ],
        [
         "11",
         "13",
         "3373221.0",
         "468",
         "81.0",
         "FFFFMMFFMFMFFMMMMMFMFFMMFFMFFFFMMMMM",
         "0.013873979795572243",
         "17.307692307692307"
        ],
        [
         "12",
         "14",
         "863933.0",
         "133",
         "23.0",
         "MFMMMMMFMMMMFFFFMM",
         "0.015394712321441592",
         "17.293233082706767"
        ],
        [
         "13",
         "15",
         "10038103.0",
         "1262",
         "207.0",
         "MMMMMMFFFMFMMMFFFMFMMMFFFFMMMMFMMMMMMMMMFFFFFFMMMMFFMMFFMMMMM",
         "0.012572096540551535",
         "16.40253565768621"
        ],
        [
         "14",
         "16",
         "20018656.0",
         "2987",
         "378.0",
         "MMMMMMMMMMMMMFFFMFFFMMMFFFFFMMMMMMFFFFFFFFFFFFMMMMFFFMMMMMMMMMMMMMMMFFFMFFFMFFFFFMMMMMMMFFFMMMFFFFFFFFMMMMMMMMMMMMMMMFMMFMFFMMFFMFMFFFMMMMMMMMMFMMFMMMMMFFMFMMMMMM",
         "0.014921081615069462",
         "12.654837629728824"
        ],
        [
         "15",
         "17",
         "7663906.0",
         "1044",
         "166.0",
         "MMFMFFMMMFFFMFMMMMFMFMFFFMMMMMMMMMMFMFFFMMMMFMFMMFFFMFFFFFFMMMM",
         "0.013622296515640979",
         "15.900383141762454"
        ],
        [
         "16",
         "18",
         "8083146.0",
         "1046",
         "179.0",
         "FMFFMMFFMMFFFFFFMMFFMFFMMMMMMMMMMFMFFFFMMMMMFFFFFMFFMMMMMMMMMFFFFMFMFFMMFMMM",
         "0.012940506085130714",
         "17.11281070745698"
        ],
        [
         "17",
         "19",
         "5815318.0",
         "998",
         "135.0",
         "FMFFFFMMMMMMMMMMMMMMMMMFFFFMMFFFMMFFMMMMFFMMMMMMMFMFMFFFFFMMMMFFMMMMMMFFMMMM",
         "0.01716157224763977",
         "13.527054108216433"
        ],
        [
         "18",
         "20",
         "17821255.0",
         "2405",
         "367.0",
         "MMFMFMFMMMFFFMMMFFMMFFFFFMMMMMMMMMMMMMMMMMFFFMMMMFFFMMFMFFMMMMMMMMMMMMMMFFFMFMMFFMFFFFFMMMMMMFFFMFFFMMMMM",
         "0.01349512141541098",
         "15.25987525987526"
        ],
        [
         "19",
         "21",
         "8805705.0",
         "1241",
         "182.0",
         "MMFFMMFFFMFFMMMMMMMMMMMMFMFFMFFFMFMMMFMFFMMMMMMMFFMMMMMMMMMMMMMFFFMMFFMMMMFFMFFFFMFFFMMMMMMMM",
         "0.014093136211126763",
         "14.665592264302981"
        ],
        [
         "20",
         "22",
         "11082924.0",
         "1599",
         "192.0",
         "FMFFFFFFMFFMMMMMMMMMMMMMMMMFMFFMMFFFMMMMFFMMMMFFFMMMMMMMMMMFFFFFMFMMMMMFFFFMMMMMMFFMMMMMMMMMMMMM",
         "0.01442760051408816",
         "12.007504690431519"
        ],
        [
         "21",
         "23",
         "3618697.0",
         "602",
         "93.0",
         "MFFMFFMMMMMMMMMMMMFFMMMFFFMFFFMMMMMMMMFFMFMFMFFMMFMMMMMM",
         "0.016635822231040622",
         "15.448504983388705"
        ],
        [
         "22",
         "24",
         "7317950.0",
         "1078",
         "141.0",
         "MFMMFMMMMMMMMMMFMMFMFFFFFFFFFFFMMMMMMMMMMMMMMMFFFFMFFMMFFFMMFMMMMMMMMMMMMM",
         "0.014730901413647265",
         "13.079777365491651"
        ],
        [
         "23",
         "25",
         "6095102.0",
         "984",
         "122.0",
         "FMFFFFFMMMMMMMMFMFFMFMFFMFMFMMMMMMMMMFFMMFFFFFFMMMFFMMMMMMMMMM",
         "0.016144110467716535",
         "12.398373983739837"
        ],
        [
         "24",
         "26",
         "5485115.0",
         "889",
         "125.0",
         "MMFFFFMFFFMMMMMFFMFMFFFMMMMMMMMMMFFFFMMMFFFFMMMMMMMMMMFMMFFFMFFMMMMMM",
         "0.016207499751600466",
         "14.0607424071991"
        ],
        [
         "25",
         "27",
         "6655774.0",
         "1089",
         "170.0",
         "MFFMFFFFFFMFFFFFFMMMFFMFFFFFMFFFFFMMMMMMMMMMMFFMFFFFMFFFMMMMMMMMMMMMMMMMFFFFMMFFMMMMMMMMMMMM",
         "0.01636173343626151",
         "15.61065197428834"
        ],
        [
         "26",
         "28",
         "10630322.0",
         "1663",
         "188.0",
         "MMMMMFMMFMMMMMFFFFMMMMFFFMMMMMMMMMFFMMFFFFFMMMMMMMMMMMMMFFFMMMFFFFMFFFFMMMMMMMM",
         "0.01564392875399259",
         "11.304870715574264"
        ],
        [
         "27",
         "29",
         "15204037.0",
         "2244",
         "329.0",
         "MMFMMMMFFFMMMMFFFMMMMMMFMMMMFFFFFFFMFFMMFFMMMMMMMMMMMMMMMMFMMFMFFMFMMMFFFMMMFFFMMMMMMMMFMFMMFFMMMFMFFMMMMMMMMMMM",
         "0.014759237957655588",
         "14.661319073083778"
        ],
        [
         "28",
         "30",
         "5337199.0",
         "853",
         "125.0",
         "MMFFMFFFMMMMMMMMMMMMMMFFFMFMFFMFMMMMFFFMMMMMMMMFFFFMMMFMMMFFFMFFFMMFFMMMMMM",
         "0.015982165926359503",
         "14.654161781946073"
        ],
        [
         "29",
         "31",
         "7921028.0",
         "1259",
         "170.0",
         "MMMFFFMMMFMMMMMMFFFFFFMMMFMFFFFMMFFMMMMMMMMMMMMMFMMFFFFFFFMMFFMMFFMMMMMMMMMMM",
         "0.015894401585248782",
         "13.502779984114376"
        ],
        [
         "30",
         "32",
         "8877062.0",
         "1378",
         "182.0",
         "FFFMMFFFFMMMMMMMMMMMMMMMMFFFMFFFFMMMMMFFMMFFFFFMMFFFMMMMMMMMMMMMMMMFMFFFFFFFFFMMMMFMFMFFMMFFMMMMMMMM",
         "0.015523153944401876",
         "13.20754716981132"
        ],
        [
         "31",
         "33",
         "10103579.0",
         "1528",
         "174.0",
         "MMFFMFFMFMMFFFFFMFFMMMMMMMMMMMMMMFMMMFMFFFMMMMMFFMFMMMMMMMMMMM",
         "0.015123353813534787",
         "11.387434554973822"
        ],
        [
         "32",
         "34",
         "3350073.0",
         "427",
         "104.0",
         "MMFMMFFMMFMFMMMMMMMMMFFMMFFFFFFFMFMMMMMM",
         "0.012745990908257818",
         "24.355971896955502"
        ],
        [
         "33",
         "35",
         "5102818.0",
         "808",
         "88.0",
         "MMMMMMMMMFFFMMMMMMMMFMMMFFFMMMMMMMMMMM",
         "0.015834387979347882",
         "10.891089108910892"
        ],
        [
         "34",
         "36",
         "2015347.0",
         "301",
         "50.0",
         "MMMFMMMMMMMMMMMMMMFFMMMMMFFMMMFFFMMMMM",
         "0.014935393259820766",
         "16.611295681063122"
        ],
        [
         "35",
         "37",
         "1255895.0",
         "151",
         "33.0",
         "MFMMFFFFMMMMMMMMMMM",
         "0.012023298126037606",
         "21.85430463576159"
        ],
        [
         "36",
         "38",
         "677168.0",
         "94",
         "24.0",
         "MMMFFMMMMMFMMMMMMM",
         "0.013881341114760297",
         "25.53191489361702"
        ],
        [
         "37",
         "39",
         "270241.0",
         "40",
         "3.0",
         "MMM",
         "0.014801603013606373",
         "7.5"
        ],
        [
         "38",
         "40",
         "256630.0",
         "41",
         "8.0",
         "FMMFMMMM",
         "0.01597630830378366",
         "19.51219512195122"
        ],
        [
         "39",
         "41",
         "526200.0",
         "60",
         "13.0",
         "MMMMMMM",
         "0.011402508551881414",
         "21.666666666666668"
        ],
        [
         "40",
         "42",
         "107040.0",
         "12",
         "2.0",
         "MM",
         "0.011210762331838564",
         "16.666666666666664"
        ],
        [
         "41",
         "63",
         "1463329.0",
         "217",
         "41.0",
         "FFFFMFFFFFMMMMFFFMFFMMMMMMMMM",
         "0.014829201088750377",
         "18.89400921658986"
        ],
        [
         "42",
         "64",
         "2625466.0",
         "402",
         "63.0",
         "FFFFFFMFFMMMMMFFMFFFMMFFMMMMMMMMMMMFMFFMMMFFMM",
         "0.01531156754648508",
         "15.671641791044777"
        ],
        [
         "43",
         "65",
         "2027496.0",
         "355",
         "54.0",
         "FFFMMFMMMMMMMFFFFFFMFMMMFMMMMFMFMMM",
         "0.017509282385760563",
         "15.211267605633802"
        ],
        [
         "44",
         "66",
         "1789889.0",
         "284",
         "43.0",
         "MMMMMMMMFFFMMMFMMMMMFMFFFFMM",
         "0.015866905713147576",
         "15.140845070422534"
        ],
        [
         "45",
         "67",
         "2030300.0",
         "324",
         "41.0",
         "FFMFFMMMMMMMMFFFFFMMFFMMMMMMM",
         "0.015958232773481754",
         "12.654320987654321"
        ],
        [
         "46",
         "68",
         "1425414.0",
         "224",
         "34.0",
         "MFMMFMMMMMMFFFFFFFFMMFMMMMMM",
         "0.01571473270221844",
         "15.178571428571427"
        ],
        [
         "47",
         "69",
         "1455013.0",
         "214",
         "34.0",
         "FFFFMMMMMFMMMMFFMMFMFFMMMMMM",
         "0.014707772370418684",
         "15.887850467289718"
        ],
        [
         "48",
         "70",
         "1727064.0",
         "301",
         "34.0",
         "FFFFMFFMFMMMMMMMFMMMMMMMMM",
         "0.017428421876664674",
         "11.295681063122924"
        ],
        [
         "49",
         "71",
         "379892.0",
         "87",
         "11.0",
         "FMFM",
         "0.02290124561717541",
         "12.643678160919542"
        ]
       ],
       "shape": {
        "columns": 7,
        "rows": 51
       }
      },
      "text/html": [
       "<div>\n",
       "<style scoped>\n",
       "    .dataframe tbody tr th:only-of-type {\n",
       "        vertical-align: middle;\n",
       "    }\n",
       "\n",
       "    .dataframe tbody tr th {\n",
       "        vertical-align: top;\n",
       "    }\n",
       "\n",
       "    .dataframe thead th {\n",
       "        text-align: right;\n",
       "    }\n",
       "</style>\n",
       "<table border=\"1\" class=\"dataframe\">\n",
       "  <thead>\n",
       "    <tr style=\"text-align: right;\">\n",
       "      <th></th>\n",
       "      <th>interest</th>\n",
       "      <th>impressions_sum</th>\n",
       "      <th>clicks_sum</th>\n",
       "      <th>total_conversion_sum</th>\n",
       "      <th>gender_sum</th>\n",
       "      <th>CTR</th>\n",
       "      <th>Conversion Rate</th>\n",
       "    </tr>\n",
       "  </thead>\n",
       "  <tbody>\n",
       "    <tr>\n",
       "      <th>0</th>\n",
       "      <td>2</td>\n",
       "      <td>1329050.0</td>\n",
       "      <td>229</td>\n",
       "      <td>32.0</td>\n",
       "      <td>MMFMMMFMMMMMMMMMMM</td>\n",
       "      <td>0.017230</td>\n",
       "      <td>13.973799</td>\n",
       "    </tr>\n",
       "    <tr>\n",
       "      <th>1</th>\n",
       "      <td>3</td>\n",
       "      <td>367910.0</td>\n",
       "      <td>65</td>\n",
       "      <td>7.0</td>\n",
       "      <td>FMMMM</td>\n",
       "      <td>0.017667</td>\n",
       "      <td>10.769231</td>\n",
       "    </tr>\n",
       "    <tr>\n",
       "      <th>2</th>\n",
       "      <td>4</td>\n",
       "      <td>215564.0</td>\n",
       "      <td>32</td>\n",
       "      <td>12.0</td>\n",
       "      <td>MMFMMMM</td>\n",
       "      <td>0.014845</td>\n",
       "      <td>37.500000</td>\n",
       "    </tr>\n",
       "    <tr>\n",
       "      <th>3</th>\n",
       "      <td>5</td>\n",
       "      <td>884901.0</td>\n",
       "      <td>155</td>\n",
       "      <td>15.0</td>\n",
       "      <td>MMMMM</td>\n",
       "      <td>0.017516</td>\n",
       "      <td>9.677419</td>\n",
       "    </tr>\n",
       "    <tr>\n",
       "      <th>4</th>\n",
       "      <td>6</td>\n",
       "      <td>272838.0</td>\n",
       "      <td>51</td>\n",
       "      <td>6.0</td>\n",
       "      <td>MMMFM</td>\n",
       "      <td>0.018692</td>\n",
       "      <td>11.764706</td>\n",
       "    </tr>\n",
       "    <tr>\n",
       "      <th>5</th>\n",
       "      <td>7</td>\n",
       "      <td>2560915.0</td>\n",
       "      <td>379</td>\n",
       "      <td>66.0</td>\n",
       "      <td>MMFMFMFMMFMMMMMMMMMMMMMFMMMM</td>\n",
       "      <td>0.014799</td>\n",
       "      <td>17.414248</td>\n",
       "    </tr>\n",
       "    <tr>\n",
       "      <th>6</th>\n",
       "      <td>8</td>\n",
       "      <td>441704.0</td>\n",
       "      <td>72</td>\n",
       "      <td>8.0</td>\n",
       "      <td>MMMMMM</td>\n",
       "      <td>0.016301</td>\n",
       "      <td>11.111111</td>\n",
       "    </tr>\n",
       "    <tr>\n",
       "      <th>7</th>\n",
       "      <td>9</td>\n",
       "      <td>755668.0</td>\n",
       "      <td>118</td>\n",
       "      <td>12.0</td>\n",
       "      <td>FMFMMMMFMM</td>\n",
       "      <td>0.015615</td>\n",
       "      <td>10.169492</td>\n",
       "    </tr>\n",
       "    <tr>\n",
       "      <th>8</th>\n",
       "      <td>10</td>\n",
       "      <td>11280033.0</td>\n",
       "      <td>1656</td>\n",
       "      <td>217.0</td>\n",
       "      <td>FFMMMFFFMFFMMMFFFFFMFMMMMMMFMMFFFFFFMFFMMMFFFF...</td>\n",
       "      <td>0.014681</td>\n",
       "      <td>13.103865</td>\n",
       "    </tr>\n",
       "    <tr>\n",
       "      <th>9</th>\n",
       "      <td>11</td>\n",
       "      <td>5082385.0</td>\n",
       "      <td>722</td>\n",
       "      <td>90.0</td>\n",
       "      <td>MFMMMFMMMMMFFFMMMFFFFMMMMM</td>\n",
       "      <td>0.014206</td>\n",
       "      <td>12.465374</td>\n",
       "    </tr>\n",
       "    <tr>\n",
       "      <th>10</th>\n",
       "      <td>12</td>\n",
       "      <td>2962468.0</td>\n",
       "      <td>435</td>\n",
       "      <td>59.0</td>\n",
       "      <td>MMFFFFMFFFMMFFFFMMMFMMM</td>\n",
       "      <td>0.014684</td>\n",
       "      <td>13.563218</td>\n",
       "    </tr>\n",
       "    <tr>\n",
       "      <th>11</th>\n",
       "      <td>13</td>\n",
       "      <td>3373221.0</td>\n",
       "      <td>468</td>\n",
       "      <td>81.0</td>\n",
       "      <td>FFFFMMFFMFMFFMMMMMFMFFMMFFMFFFFMMMMM</td>\n",
       "      <td>0.013874</td>\n",
       "      <td>17.307692</td>\n",
       "    </tr>\n",
       "    <tr>\n",
       "      <th>12</th>\n",
       "      <td>14</td>\n",
       "      <td>863933.0</td>\n",
       "      <td>133</td>\n",
       "      <td>23.0</td>\n",
       "      <td>MFMMMMMFMMMMFFFFMM</td>\n",
       "      <td>0.015395</td>\n",
       "      <td>17.293233</td>\n",
       "    </tr>\n",
       "    <tr>\n",
       "      <th>13</th>\n",
       "      <td>15</td>\n",
       "      <td>10038103.0</td>\n",
       "      <td>1262</td>\n",
       "      <td>207.0</td>\n",
       "      <td>MMMMMMFFFMFMMMFFFMFMMMFFFFMMMMFMMMMMMMMMFFFFFF...</td>\n",
       "      <td>0.012572</td>\n",
       "      <td>16.402536</td>\n",
       "    </tr>\n",
       "    <tr>\n",
       "      <th>14</th>\n",
       "      <td>16</td>\n",
       "      <td>20018656.0</td>\n",
       "      <td>2987</td>\n",
       "      <td>378.0</td>\n",
       "      <td>MMMMMMMMMMMMMFFFMFFFMMMFFFFFMMMMMMFFFFFFFFFFFF...</td>\n",
       "      <td>0.014921</td>\n",
       "      <td>12.654838</td>\n",
       "    </tr>\n",
       "    <tr>\n",
       "      <th>15</th>\n",
       "      <td>17</td>\n",
       "      <td>7663906.0</td>\n",
       "      <td>1044</td>\n",
       "      <td>166.0</td>\n",
       "      <td>MMFMFFMMMFFFMFMMMMFMFMFFFMMMMMMMMMMFMFFFMMMMFM...</td>\n",
       "      <td>0.013622</td>\n",
       "      <td>15.900383</td>\n",
       "    </tr>\n",
       "    <tr>\n",
       "      <th>16</th>\n",
       "      <td>18</td>\n",
       "      <td>8083146.0</td>\n",
       "      <td>1046</td>\n",
       "      <td>179.0</td>\n",
       "      <td>FMFFMMFFMMFFFFFFMMFFMFFMMMMMMMMMMFMFFFFMMMMMFF...</td>\n",
       "      <td>0.012941</td>\n",
       "      <td>17.112811</td>\n",
       "    </tr>\n",
       "    <tr>\n",
       "      <th>17</th>\n",
       "      <td>19</td>\n",
       "      <td>5815318.0</td>\n",
       "      <td>998</td>\n",
       "      <td>135.0</td>\n",
       "      <td>FMFFFFMMMMMMMMMMMMMMMMMFFFFMMFFFMMFFMMMMFFMMMM...</td>\n",
       "      <td>0.017162</td>\n",
       "      <td>13.527054</td>\n",
       "    </tr>\n",
       "    <tr>\n",
       "      <th>18</th>\n",
       "      <td>20</td>\n",
       "      <td>17821255.0</td>\n",
       "      <td>2405</td>\n",
       "      <td>367.0</td>\n",
       "      <td>MMFMFMFMMMFFFMMMFFMMFFFFFMMMMMMMMMMMMMMMMMFFFM...</td>\n",
       "      <td>0.013495</td>\n",
       "      <td>15.259875</td>\n",
       "    </tr>\n",
       "    <tr>\n",
       "      <th>19</th>\n",
       "      <td>21</td>\n",
       "      <td>8805705.0</td>\n",
       "      <td>1241</td>\n",
       "      <td>182.0</td>\n",
       "      <td>MMFFMMFFFMFFMMMMMMMMMMMMFMFFMFFFMFMMMFMFFMMMMM...</td>\n",
       "      <td>0.014093</td>\n",
       "      <td>14.665592</td>\n",
       "    </tr>\n",
       "    <tr>\n",
       "      <th>20</th>\n",
       "      <td>22</td>\n",
       "      <td>11082924.0</td>\n",
       "      <td>1599</td>\n",
       "      <td>192.0</td>\n",
       "      <td>FMFFFFFFMFFMMMMMMMMMMMMMMMMFMFFMMFFFMMMMFFMMMM...</td>\n",
       "      <td>0.014428</td>\n",
       "      <td>12.007505</td>\n",
       "    </tr>\n",
       "    <tr>\n",
       "      <th>21</th>\n",
       "      <td>23</td>\n",
       "      <td>3618697.0</td>\n",
       "      <td>602</td>\n",
       "      <td>93.0</td>\n",
       "      <td>MFFMFFMMMMMMMMMMMMFFMMMFFFMFFFMMMMMMMMFFMFMFMF...</td>\n",
       "      <td>0.016636</td>\n",
       "      <td>15.448505</td>\n",
       "    </tr>\n",
       "    <tr>\n",
       "      <th>22</th>\n",
       "      <td>24</td>\n",
       "      <td>7317950.0</td>\n",
       "      <td>1078</td>\n",
       "      <td>141.0</td>\n",
       "      <td>MFMMFMMMMMMMMMMFMMFMFFFFFFFFFFFMMMMMMMMMMMMMMM...</td>\n",
       "      <td>0.014731</td>\n",
       "      <td>13.079777</td>\n",
       "    </tr>\n",
       "    <tr>\n",
       "      <th>23</th>\n",
       "      <td>25</td>\n",
       "      <td>6095102.0</td>\n",
       "      <td>984</td>\n",
       "      <td>122.0</td>\n",
       "      <td>FMFFFFFMMMMMMMMFMFFMFMFFMFMFMMMMMMMMMFFMMFFFFF...</td>\n",
       "      <td>0.016144</td>\n",
       "      <td>12.398374</td>\n",
       "    </tr>\n",
       "    <tr>\n",
       "      <th>24</th>\n",
       "      <td>26</td>\n",
       "      <td>5485115.0</td>\n",
       "      <td>889</td>\n",
       "      <td>125.0</td>\n",
       "      <td>MMFFFFMFFFMMMMMFFMFMFFFMMMMMMMMMMFFFFMMMFFFFMM...</td>\n",
       "      <td>0.016207</td>\n",
       "      <td>14.060742</td>\n",
       "    </tr>\n",
       "    <tr>\n",
       "      <th>25</th>\n",
       "      <td>27</td>\n",
       "      <td>6655774.0</td>\n",
       "      <td>1089</td>\n",
       "      <td>170.0</td>\n",
       "      <td>MFFMFFFFFFMFFFFFFMMMFFMFFFFFMFFFFFMMMMMMMMMMMF...</td>\n",
       "      <td>0.016362</td>\n",
       "      <td>15.610652</td>\n",
       "    </tr>\n",
       "    <tr>\n",
       "      <th>26</th>\n",
       "      <td>28</td>\n",
       "      <td>10630322.0</td>\n",
       "      <td>1663</td>\n",
       "      <td>188.0</td>\n",
       "      <td>MMMMMFMMFMMMMMFFFFMMMMFFFMMMMMMMMMFFMMFFFFFMMM...</td>\n",
       "      <td>0.015644</td>\n",
       "      <td>11.304871</td>\n",
       "    </tr>\n",
       "    <tr>\n",
       "      <th>27</th>\n",
       "      <td>29</td>\n",
       "      <td>15204037.0</td>\n",
       "      <td>2244</td>\n",
       "      <td>329.0</td>\n",
       "      <td>MMFMMMMFFFMMMMFFFMMMMMMFMMMMFFFFFFFMFFMMFFMMMM...</td>\n",
       "      <td>0.014759</td>\n",
       "      <td>14.661319</td>\n",
       "    </tr>\n",
       "    <tr>\n",
       "      <th>28</th>\n",
       "      <td>30</td>\n",
       "      <td>5337199.0</td>\n",
       "      <td>853</td>\n",
       "      <td>125.0</td>\n",
       "      <td>MMFFMFFFMMMMMMMMMMMMMMFFFMFMFFMFMMMMFFFMMMMMMM...</td>\n",
       "      <td>0.015982</td>\n",
       "      <td>14.654162</td>\n",
       "    </tr>\n",
       "    <tr>\n",
       "      <th>29</th>\n",
       "      <td>31</td>\n",
       "      <td>7921028.0</td>\n",
       "      <td>1259</td>\n",
       "      <td>170.0</td>\n",
       "      <td>MMMFFFMMMFMMMMMMFFFFFFMMMFMFFFFMMFFMMMMMMMMMMM...</td>\n",
       "      <td>0.015894</td>\n",
       "      <td>13.502780</td>\n",
       "    </tr>\n",
       "    <tr>\n",
       "      <th>30</th>\n",
       "      <td>32</td>\n",
       "      <td>8877062.0</td>\n",
       "      <td>1378</td>\n",
       "      <td>182.0</td>\n",
       "      <td>FFFMMFFFFMMMMMMMMMMMMMMMMFFFMFFFFMMMMMFFMMFFFF...</td>\n",
       "      <td>0.015523</td>\n",
       "      <td>13.207547</td>\n",
       "    </tr>\n",
       "    <tr>\n",
       "      <th>31</th>\n",
       "      <td>33</td>\n",
       "      <td>10103579.0</td>\n",
       "      <td>1528</td>\n",
       "      <td>174.0</td>\n",
       "      <td>MMFFMFFMFMMFFFFFMFFMMMMMMMMMMMMMMFMMMFMFFFMMMM...</td>\n",
       "      <td>0.015123</td>\n",
       "      <td>11.387435</td>\n",
       "    </tr>\n",
       "    <tr>\n",
       "      <th>32</th>\n",
       "      <td>34</td>\n",
       "      <td>3350073.0</td>\n",
       "      <td>427</td>\n",
       "      <td>104.0</td>\n",
       "      <td>MMFMMFFMMFMFMMMMMMMMMFFMMFFFFFFFMFMMMMMM</td>\n",
       "      <td>0.012746</td>\n",
       "      <td>24.355972</td>\n",
       "    </tr>\n",
       "    <tr>\n",
       "      <th>33</th>\n",
       "      <td>35</td>\n",
       "      <td>5102818.0</td>\n",
       "      <td>808</td>\n",
       "      <td>88.0</td>\n",
       "      <td>MMMMMMMMMFFFMMMMMMMMFMMMFFFMMMMMMMMMMM</td>\n",
       "      <td>0.015834</td>\n",
       "      <td>10.891089</td>\n",
       "    </tr>\n",
       "    <tr>\n",
       "      <th>34</th>\n",
       "      <td>36</td>\n",
       "      <td>2015347.0</td>\n",
       "      <td>301</td>\n",
       "      <td>50.0</td>\n",
       "      <td>MMMFMMMMMMMMMMMMMMFFMMMMMFFMMMFFFMMMMM</td>\n",
       "      <td>0.014935</td>\n",
       "      <td>16.611296</td>\n",
       "    </tr>\n",
       "    <tr>\n",
       "      <th>35</th>\n",
       "      <td>37</td>\n",
       "      <td>1255895.0</td>\n",
       "      <td>151</td>\n",
       "      <td>33.0</td>\n",
       "      <td>MFMMFFFFMMMMMMMMMMM</td>\n",
       "      <td>0.012023</td>\n",
       "      <td>21.854305</td>\n",
       "    </tr>\n",
       "    <tr>\n",
       "      <th>36</th>\n",
       "      <td>38</td>\n",
       "      <td>677168.0</td>\n",
       "      <td>94</td>\n",
       "      <td>24.0</td>\n",
       "      <td>MMMFFMMMMMFMMMMMMM</td>\n",
       "      <td>0.013881</td>\n",
       "      <td>25.531915</td>\n",
       "    </tr>\n",
       "    <tr>\n",
       "      <th>37</th>\n",
       "      <td>39</td>\n",
       "      <td>270241.0</td>\n",
       "      <td>40</td>\n",
       "      <td>3.0</td>\n",
       "      <td>MMM</td>\n",
       "      <td>0.014802</td>\n",
       "      <td>7.500000</td>\n",
       "    </tr>\n",
       "    <tr>\n",
       "      <th>38</th>\n",
       "      <td>40</td>\n",
       "      <td>256630.0</td>\n",
       "      <td>41</td>\n",
       "      <td>8.0</td>\n",
       "      <td>FMMFMMMM</td>\n",
       "      <td>0.015976</td>\n",
       "      <td>19.512195</td>\n",
       "    </tr>\n",
       "    <tr>\n",
       "      <th>39</th>\n",
       "      <td>41</td>\n",
       "      <td>526200.0</td>\n",
       "      <td>60</td>\n",
       "      <td>13.0</td>\n",
       "      <td>MMMMMMM</td>\n",
       "      <td>0.011403</td>\n",
       "      <td>21.666667</td>\n",
       "    </tr>\n",
       "    <tr>\n",
       "      <th>40</th>\n",
       "      <td>42</td>\n",
       "      <td>107040.0</td>\n",
       "      <td>12</td>\n",
       "      <td>2.0</td>\n",
       "      <td>MM</td>\n",
       "      <td>0.011211</td>\n",
       "      <td>16.666667</td>\n",
       "    </tr>\n",
       "    <tr>\n",
       "      <th>41</th>\n",
       "      <td>63</td>\n",
       "      <td>1463329.0</td>\n",
       "      <td>217</td>\n",
       "      <td>41.0</td>\n",
       "      <td>FFFFMFFFFFMMMMFFFMFFMMMMMMMMM</td>\n",
       "      <td>0.014829</td>\n",
       "      <td>18.894009</td>\n",
       "    </tr>\n",
       "    <tr>\n",
       "      <th>42</th>\n",
       "      <td>64</td>\n",
       "      <td>2625466.0</td>\n",
       "      <td>402</td>\n",
       "      <td>63.0</td>\n",
       "      <td>FFFFFFMFFMMMMMFFMFFFMMFFMMMMMMMMMMMFMFFMMMFFMM</td>\n",
       "      <td>0.015312</td>\n",
       "      <td>15.671642</td>\n",
       "    </tr>\n",
       "    <tr>\n",
       "      <th>43</th>\n",
       "      <td>65</td>\n",
       "      <td>2027496.0</td>\n",
       "      <td>355</td>\n",
       "      <td>54.0</td>\n",
       "      <td>FFFMMFMMMMMMMFFFFFFMFMMMFMMMMFMFMMM</td>\n",
       "      <td>0.017509</td>\n",
       "      <td>15.211268</td>\n",
       "    </tr>\n",
       "    <tr>\n",
       "      <th>44</th>\n",
       "      <td>66</td>\n",
       "      <td>1789889.0</td>\n",
       "      <td>284</td>\n",
       "      <td>43.0</td>\n",
       "      <td>MMMMMMMMFFFMMMFMMMMMFMFFFFMM</td>\n",
       "      <td>0.015867</td>\n",
       "      <td>15.140845</td>\n",
       "    </tr>\n",
       "    <tr>\n",
       "      <th>45</th>\n",
       "      <td>67</td>\n",
       "      <td>2030300.0</td>\n",
       "      <td>324</td>\n",
       "      <td>41.0</td>\n",
       "      <td>FFMFFMMMMMMMMFFFFFMMFFMMMMMMM</td>\n",
       "      <td>0.015958</td>\n",
       "      <td>12.654321</td>\n",
       "    </tr>\n",
       "    <tr>\n",
       "      <th>46</th>\n",
       "      <td>68</td>\n",
       "      <td>1425414.0</td>\n",
       "      <td>224</td>\n",
       "      <td>34.0</td>\n",
       "      <td>MFMMFMMMMMMFFFFFFFFMMFMMMMMM</td>\n",
       "      <td>0.015715</td>\n",
       "      <td>15.178571</td>\n",
       "    </tr>\n",
       "    <tr>\n",
       "      <th>47</th>\n",
       "      <td>69</td>\n",
       "      <td>1455013.0</td>\n",
       "      <td>214</td>\n",
       "      <td>34.0</td>\n",
       "      <td>FFFFMMMMMFMMMMFFMMFMFFMMMMMM</td>\n",
       "      <td>0.014708</td>\n",
       "      <td>15.887850</td>\n",
       "    </tr>\n",
       "    <tr>\n",
       "      <th>48</th>\n",
       "      <td>70</td>\n",
       "      <td>1727064.0</td>\n",
       "      <td>301</td>\n",
       "      <td>34.0</td>\n",
       "      <td>FFFFMFFMFMMMMMMMFMMMMMMMMM</td>\n",
       "      <td>0.017428</td>\n",
       "      <td>11.295681</td>\n",
       "    </tr>\n",
       "    <tr>\n",
       "      <th>49</th>\n",
       "      <td>71</td>\n",
       "      <td>379892.0</td>\n",
       "      <td>87</td>\n",
       "      <td>11.0</td>\n",
       "      <td>FMFM</td>\n",
       "      <td>0.022901</td>\n",
       "      <td>12.643678</td>\n",
       "    </tr>\n",
       "    <tr>\n",
       "      <th>50</th>\n",
       "      <td>72</td>\n",
       "      <td>90021.0</td>\n",
       "      <td>16</td>\n",
       "      <td>2.0</td>\n",
       "      <td>MM</td>\n",
       "      <td>0.017774</td>\n",
       "      <td>12.500000</td>\n",
       "    </tr>\n",
       "  </tbody>\n",
       "</table>\n",
       "</div>"
      ],
      "text/plain": [
       "    interest  impressions_sum  clicks_sum  total_conversion_sum  \\\n",
       "0          2        1329050.0         229                  32.0   \n",
       "1          3         367910.0          65                   7.0   \n",
       "2          4         215564.0          32                  12.0   \n",
       "3          5         884901.0         155                  15.0   \n",
       "4          6         272838.0          51                   6.0   \n",
       "5          7        2560915.0         379                  66.0   \n",
       "6          8         441704.0          72                   8.0   \n",
       "7          9         755668.0         118                  12.0   \n",
       "8         10       11280033.0        1656                 217.0   \n",
       "9         11        5082385.0         722                  90.0   \n",
       "10        12        2962468.0         435                  59.0   \n",
       "11        13        3373221.0         468                  81.0   \n",
       "12        14         863933.0         133                  23.0   \n",
       "13        15       10038103.0        1262                 207.0   \n",
       "14        16       20018656.0        2987                 378.0   \n",
       "15        17        7663906.0        1044                 166.0   \n",
       "16        18        8083146.0        1046                 179.0   \n",
       "17        19        5815318.0         998                 135.0   \n",
       "18        20       17821255.0        2405                 367.0   \n",
       "19        21        8805705.0        1241                 182.0   \n",
       "20        22       11082924.0        1599                 192.0   \n",
       "21        23        3618697.0         602                  93.0   \n",
       "22        24        7317950.0        1078                 141.0   \n",
       "23        25        6095102.0         984                 122.0   \n",
       "24        26        5485115.0         889                 125.0   \n",
       "25        27        6655774.0        1089                 170.0   \n",
       "26        28       10630322.0        1663                 188.0   \n",
       "27        29       15204037.0        2244                 329.0   \n",
       "28        30        5337199.0         853                 125.0   \n",
       "29        31        7921028.0        1259                 170.0   \n",
       "30        32        8877062.0        1378                 182.0   \n",
       "31        33       10103579.0        1528                 174.0   \n",
       "32        34        3350073.0         427                 104.0   \n",
       "33        35        5102818.0         808                  88.0   \n",
       "34        36        2015347.0         301                  50.0   \n",
       "35        37        1255895.0         151                  33.0   \n",
       "36        38         677168.0          94                  24.0   \n",
       "37        39         270241.0          40                   3.0   \n",
       "38        40         256630.0          41                   8.0   \n",
       "39        41         526200.0          60                  13.0   \n",
       "40        42         107040.0          12                   2.0   \n",
       "41        63        1463329.0         217                  41.0   \n",
       "42        64        2625466.0         402                  63.0   \n",
       "43        65        2027496.0         355                  54.0   \n",
       "44        66        1789889.0         284                  43.0   \n",
       "45        67        2030300.0         324                  41.0   \n",
       "46        68        1425414.0         224                  34.0   \n",
       "47        69        1455013.0         214                  34.0   \n",
       "48        70        1727064.0         301                  34.0   \n",
       "49        71         379892.0          87                  11.0   \n",
       "50        72          90021.0          16                   2.0   \n",
       "\n",
       "                                           gender_sum       CTR  \\\n",
       "0                                  MMFMMMFMMMMMMMMMMM  0.017230   \n",
       "1                                               FMMMM  0.017667   \n",
       "2                                             MMFMMMM  0.014845   \n",
       "3                                               MMMMM  0.017516   \n",
       "4                                               MMMFM  0.018692   \n",
       "5                        MMFMFMFMMFMMMMMMMMMMMMMFMMMM  0.014799   \n",
       "6                                              MMMMMM  0.016301   \n",
       "7                                          FMFMMMMFMM  0.015615   \n",
       "8   FFMMMFFFMFFMMMFFFFFMFMMMMMMFMMFFFFFFMFFMMMFFFF...  0.014681   \n",
       "9                          MFMMMFMMMMMFFFMMMFFFFMMMMM  0.014206   \n",
       "10                            MMFFFFMFFFMMFFFFMMMFMMM  0.014684   \n",
       "11               FFFFMMFFMFMFFMMMMMFMFFMMFFMFFFFMMMMM  0.013874   \n",
       "12                                 MFMMMMMFMMMMFFFFMM  0.015395   \n",
       "13  MMMMMMFFFMFMMMFFFMFMMMFFFFMMMMFMMMMMMMMMFFFFFF...  0.012572   \n",
       "14  MMMMMMMMMMMMMFFFMFFFMMMFFFFFMMMMMMFFFFFFFFFFFF...  0.014921   \n",
       "15  MMFMFFMMMFFFMFMMMMFMFMFFFMMMMMMMMMMFMFFFMMMMFM...  0.013622   \n",
       "16  FMFFMMFFMMFFFFFFMMFFMFFMMMMMMMMMMFMFFFFMMMMMFF...  0.012941   \n",
       "17  FMFFFFMMMMMMMMMMMMMMMMMFFFFMMFFFMMFFMMMMFFMMMM...  0.017162   \n",
       "18  MMFMFMFMMMFFFMMMFFMMFFFFFMMMMMMMMMMMMMMMMMFFFM...  0.013495   \n",
       "19  MMFFMMFFFMFFMMMMMMMMMMMMFMFFMFFFMFMMMFMFFMMMMM...  0.014093   \n",
       "20  FMFFFFFFMFFMMMMMMMMMMMMMMMMFMFFMMFFFMMMMFFMMMM...  0.014428   \n",
       "21  MFFMFFMMMMMMMMMMMMFFMMMFFFMFFFMMMMMMMMFFMFMFMF...  0.016636   \n",
       "22  MFMMFMMMMMMMMMMFMMFMFFFFFFFFFFFMMMMMMMMMMMMMMM...  0.014731   \n",
       "23  FMFFFFFMMMMMMMMFMFFMFMFFMFMFMMMMMMMMMFFMMFFFFF...  0.016144   \n",
       "24  MMFFFFMFFFMMMMMFFMFMFFFMMMMMMMMMMFFFFMMMFFFFMM...  0.016207   \n",
       "25  MFFMFFFFFFMFFFFFFMMMFFMFFFFFMFFFFFMMMMMMMMMMMF...  0.016362   \n",
       "26  MMMMMFMMFMMMMMFFFFMMMMFFFMMMMMMMMMFFMMFFFFFMMM...  0.015644   \n",
       "27  MMFMMMMFFFMMMMFFFMMMMMMFMMMMFFFFFFFMFFMMFFMMMM...  0.014759   \n",
       "28  MMFFMFFFMMMMMMMMMMMMMMFFFMFMFFMFMMMMFFFMMMMMMM...  0.015982   \n",
       "29  MMMFFFMMMFMMMMMMFFFFFFMMMFMFFFFMMFFMMMMMMMMMMM...  0.015894   \n",
       "30  FFFMMFFFFMMMMMMMMMMMMMMMMFFFMFFFFMMMMMFFMMFFFF...  0.015523   \n",
       "31  MMFFMFFMFMMFFFFFMFFMMMMMMMMMMMMMMFMMMFMFFFMMMM...  0.015123   \n",
       "32           MMFMMFFMMFMFMMMMMMMMMFFMMFFFFFFFMFMMMMMM  0.012746   \n",
       "33             MMMMMMMMMFFFMMMMMMMMFMMMFFFMMMMMMMMMMM  0.015834   \n",
       "34             MMMFMMMMMMMMMMMMMMFFMMMMMFFMMMFFFMMMMM  0.014935   \n",
       "35                                MFMMFFFFMMMMMMMMMMM  0.012023   \n",
       "36                                 MMMFFMMMMMFMMMMMMM  0.013881   \n",
       "37                                                MMM  0.014802   \n",
       "38                                           FMMFMMMM  0.015976   \n",
       "39                                            MMMMMMM  0.011403   \n",
       "40                                                 MM  0.011211   \n",
       "41                      FFFFMFFFFFMMMMFFFMFFMMMMMMMMM  0.014829   \n",
       "42     FFFFFFMFFMMMMMFFMFFFMMFFMMMMMMMMMMMFMFFMMMFFMM  0.015312   \n",
       "43                FFFMMFMMMMMMMFFFFFFMFMMMFMMMMFMFMMM  0.017509   \n",
       "44                       MMMMMMMMFFFMMMFMMMMMFMFFFFMM  0.015867   \n",
       "45                      FFMFFMMMMMMMMFFFFFMMFFMMMMMMM  0.015958   \n",
       "46                       MFMMFMMMMMMFFFFFFFFMMFMMMMMM  0.015715   \n",
       "47                       FFFFMMMMMFMMMMFFMMFMFFMMMMMM  0.014708   \n",
       "48                         FFFFMFFMFMMMMMMMFMMMMMMMMM  0.017428   \n",
       "49                                               FMFM  0.022901   \n",
       "50                                                 MM  0.017774   \n",
       "\n",
       "    Conversion Rate  \n",
       "0         13.973799  \n",
       "1         10.769231  \n",
       "2         37.500000  \n",
       "3          9.677419  \n",
       "4         11.764706  \n",
       "5         17.414248  \n",
       "6         11.111111  \n",
       "7         10.169492  \n",
       "8         13.103865  \n",
       "9         12.465374  \n",
       "10        13.563218  \n",
       "11        17.307692  \n",
       "12        17.293233  \n",
       "13        16.402536  \n",
       "14        12.654838  \n",
       "15        15.900383  \n",
       "16        17.112811  \n",
       "17        13.527054  \n",
       "18        15.259875  \n",
       "19        14.665592  \n",
       "20        12.007505  \n",
       "21        15.448505  \n",
       "22        13.079777  \n",
       "23        12.398374  \n",
       "24        14.060742  \n",
       "25        15.610652  \n",
       "26        11.304871  \n",
       "27        14.661319  \n",
       "28        14.654162  \n",
       "29        13.502780  \n",
       "30        13.207547  \n",
       "31        11.387435  \n",
       "32        24.355972  \n",
       "33        10.891089  \n",
       "34        16.611296  \n",
       "35        21.854305  \n",
       "36        25.531915  \n",
       "37         7.500000  \n",
       "38        19.512195  \n",
       "39        21.666667  \n",
       "40        16.666667  \n",
       "41        18.894009  \n",
       "42        15.671642  \n",
       "43        15.211268  \n",
       "44        15.140845  \n",
       "45        12.654321  \n",
       "46        15.178571  \n",
       "47        15.887850  \n",
       "48        11.295681  \n",
       "49        12.643678  \n",
       "50        12.500000  "
      ]
     },
     "execution_count": 130,
     "metadata": {},
     "output_type": "execute_result"
    }
   ],
   "source": [
    "interest_analysis"
   ]
  },
  {
   "cell_type": "code",
   "execution_count": 131,
   "metadata": {},
   "outputs": [
    {
     "name": "stderr",
     "output_type": "stream",
     "text": [
      "/var/folders/vr/thykdwqx0d72q7nckyxdl0zr0000gn/T/ipykernel_5291/3549202209.py:2: FutureWarning: \n",
      "\n",
      "Passing `palette` without assigning `hue` is deprecated and will be removed in v0.14.0. Assign the `x` variable to `hue` and set `legend=False` for the same effect.\n",
      "\n",
      "  sb.barplot(data=interest_analysis.sort_values(by='CTR', ascending=False), x='interest', y='CTR', palette=\"viridis\")\n"
     ]
    },
    {
     "data": {
      "image/png": "[encoded data removed]",
      "text/plain": [
       "<Figure size 1200x600 with 1 Axes>"
      ]
     },
     "metadata": {},
     "output_type": "display_data"
    }
   ],
   "source": [
    "plt.figure(figsize=(12, 6))\n",
    "sb.barplot(data=interest_analysis.sort_values(by='CTR', ascending=False), x='interest', y='CTR', palette=\"viridis\")\n",
    "plt.xticks(rotation=45, ha='right')\n",
    "plt.xlabel(\"Interest Category\", fontsize=12)\n",
    "plt.ylabel(\"Click-Through Rate (CTR)\", fontsize=12)\n",
    "plt.title(\"CTR by Interest Category\", fontsize=14, fontweight='bold')\n",
    "plt.grid(axis='y', linestyle='--', alpha=0.6)\n",
    "plt.show()\n"
   ]
  },
  {
   "cell_type": "code",
   "execution_count": 132,
   "metadata": {},
   "outputs": [
    {
     "data": {
      "application/vnd.microsoft.datawrangler.viewer.v0+json": {
       "columns": [
        {
         "name": "index",
         "rawType": "int64",
         "type": "integer"
        },
        {
         "name": "interest",
         "rawType": "int64",
         "type": "integer"
        },
        {
         "name": "impressions_sum",
         "rawType": "float64",
         "type": "float"
        },
        {
         "name": "clicks_sum",
         "rawType": "int64",
         "type": "integer"
        },
        {
         "name": "total_conversion_sum",
         "rawType": "float64",
         "type": "float"
        },
        {
         "name": "gender_sum",
         "rawType": "object",
         "type": "string"
        },
        {
         "name": "CTR",
         "rawType": "float64",
         "type": "float"
        },
        {
         "name": "Conversion Rate",
         "rawType": "float64",
         "type": "float"
        }
       ],
       "conversionMethod": "pd.DataFrame",
       "ref": "20bca4e4-dc2d-4b80-9223-7c59f33f8d78",
       "rows": [
        [
         "49",
         "71",
         "379892.0",
         "87",
         "11.0",
         "FMFM",
         "0.02290124561717541",
         "12.643678160919542"
        ],
        [
         "4",
         "6",
         "272838.0",
         "51",
         "6.0",
         "MMMFM",
         "0.018692410881182238",
         "11.76470588235294"
        ],
        [
         "50",
         "72",
         "90021.0",
         "16",
         "2.0",
         "MM",
         "0.017773630597305072",
         "12.5"
        ],
        [
         "1",
         "3",
         "367910.0",
         "65",
         "7.0",
         "FMMMM",
         "0.017667364301051886",
         "10.76923076923077"
        ],
        [
         "3",
         "5",
         "884901.0",
         "155",
         "15.0",
         "MMMMM",
         "0.017516083720099763",
         "9.67741935483871"
        ]
       ],
       "shape": {
        "columns": 7,
        "rows": 5
       }
      },
      "text/html": [
       "<div>\n",
       "<style scoped>\n",
       "    .dataframe tbody tr th:only-of-type {\n",
       "        vertical-align: middle;\n",
       "    }\n",
       "\n",
       "    .dataframe tbody tr th {\n",
       "        vertical-align: top;\n",
       "    }\n",
       "\n",
       "    .dataframe thead th {\n",
       "        text-align: right;\n",
       "    }\n",
       "</style>\n",
       "<table border=\"1\" class=\"dataframe\">\n",
       "  <thead>\n",
       "    <tr style=\"text-align: right;\">\n",
       "      <th></th>\n",
       "      <th>interest</th>\n",
       "      <th>impressions_sum</th>\n",
       "      <th>clicks_sum</th>\n",
       "      <th>total_conversion_sum</th>\n",
       "      <th>gender_sum</th>\n",
       "      <th>CTR</th>\n",
       "      <th>Conversion Rate</th>\n",
       "    </tr>\n",
       "  </thead>\n",
       "  <tbody>\n",
       "    <tr>\n",
       "      <th>49</th>\n",
       "      <td>71</td>\n",
       "      <td>379892.0</td>\n",
       "      <td>87</td>\n",
       "      <td>11.0</td>\n",
       "      <td>FMFM</td>\n",
       "      <td>0.022901</td>\n",
       "      <td>12.643678</td>\n",
       "    </tr>\n",
       "    <tr>\n",
       "      <th>4</th>\n",
       "      <td>6</td>\n",
       "      <td>272838.0</td>\n",
       "      <td>51</td>\n",
       "      <td>6.0</td>\n",
       "      <td>MMMFM</td>\n",
       "      <td>0.018692</td>\n",
       "      <td>11.764706</td>\n",
       "    </tr>\n",
       "    <tr>\n",
       "      <th>50</th>\n",
       "      <td>72</td>\n",
       "      <td>90021.0</td>\n",
       "      <td>16</td>\n",
       "      <td>2.0</td>\n",
       "      <td>MM</td>\n",
       "      <td>0.017774</td>\n",
       "      <td>12.500000</td>\n",
       "    </tr>\n",
       "    <tr>\n",
       "      <th>1</th>\n",
       "      <td>3</td>\n",
       "      <td>367910.0</td>\n",
       "      <td>65</td>\n",
       "      <td>7.0</td>\n",
       "      <td>FMMMM</td>\n",
       "      <td>0.017667</td>\n",
       "      <td>10.769231</td>\n",
       "    </tr>\n",
       "    <tr>\n",
       "      <th>3</th>\n",
       "      <td>5</td>\n",
       "      <td>884901.0</td>\n",
       "      <td>155</td>\n",
       "      <td>15.0</td>\n",
       "      <td>MMMMM</td>\n",
       "      <td>0.017516</td>\n",
       "      <td>9.677419</td>\n",
       "    </tr>\n",
       "  </tbody>\n",
       "</table>\n",
       "</div>"
      ],
      "text/plain": [
       "    interest  impressions_sum  clicks_sum  total_conversion_sum gender_sum  \\\n",
       "49        71         379892.0          87                  11.0       FMFM   \n",
       "4          6         272838.0          51                   6.0      MMMFM   \n",
       "50        72          90021.0          16                   2.0         MM   \n",
       "1          3         367910.0          65                   7.0      FMMMM   \n",
       "3          5         884901.0         155                  15.0      MMMMM   \n",
       "\n",
       "         CTR  Conversion Rate  \n",
       "49  0.022901        12.643678  \n",
       "4   0.018692        11.764706  \n",
       "50  0.017774        12.500000  \n",
       "1   0.017667        10.769231  \n",
       "3   0.017516         9.677419  "
      ]
     },
     "execution_count": 132,
     "metadata": {},
     "output_type": "execute_result"
    }
   ],
   "source": [
    "interest_analysis.sort_values(by='CTR', ascending=False).head()"
   ]
  },
  {
   "cell_type": "markdown",
   "metadata": {},
   "source": [
    "Interest 71 showed the most CTR, by far. Conducting a demographic breakdown of users engaging in Interest 71 to understand their behavioral patterns. Exploring interest 71 and examining why it may have such a high CTR may be an opportunity to targert this specific interest for increased performance."
   ]
  },
  {
   "cell_type": "markdown",
   "metadata": {},
   "source": [
    "## Key Takeaways\n",
    "1. **Females** engage more effectively with the ads, making them a higher-value audience. This suggesgts Budget reallocation for femaile target ads.\n",
    "2. **Male** engagement needs optimization—high spend with lower returns suggests inefficiencies.\n"
   ]
  }
 ],
 "metadata": {
  "kernelspec": {
   "display_name": "base",
   "language": "python",
   "name": "python3"
  },
  "language_info": {
   "codemirror_mode": {
    "name": "ipython",
    "version": 3
   },
   "file_extension": ".py",
   "mimetype": "text/x-python",
   "name": "python",
   "nbconvert_exporter": "python",
   "pygments_lexer": "ipython3",
   "version": "3.12.4"
  }
 },
 "nbformat": 4,
 "nbformat_minor": 2
}

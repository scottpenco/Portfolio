{
 "cells": [
  {
   "cell_type": "markdown",
   "metadata": {},
   "source": [
    "# Malaria Detection using CNN V2"
   ]
  },
  {
   "cell_type": "markdown",
   "metadata": {},
   "source": [
    "Introduction\n",
    "\n",
    "This study explores a CNN-based approach to automate malaria detection from cell images, aiming to improve diagnostic efficiency and accuracy.\n",
    "\n",
    "This automated system can provide easier earlier detection and classification of infected individuals, and alleviate any burden from human error or labour associated with human detection. Given the morphological differences in red blood cells for non-infected and parasitized individuals, this provides us with a few concepts that must be explored before a design solution can be determined. \n",
    "\n"
   ]
  },
  {
   "cell_type": "code",
   "execution_count": 1,
   "metadata": {},
   "outputs": [],
   "source": [
    "import os\n",
    "import time\n",
    "import random\n",
    "from collections import Counter\n",
    "\n",
    "import numpy as np\n",
    "import matplotlib.pyplot as plt\n",
    "from PIL import Image\n",
    "\n",
    "import torch\n",
    "import torch.nn as nn\n",
    "import torch.optim as optim\n",
    "import torchvision.transforms as transforms\n",
    "import torchvision.datasets as datasets\n",
    "from torch.utils.data import DataLoader, Dataset"
   ]
  },
  {
   "cell_type": "code",
   "execution_count": 2,
   "metadata": {},
   "outputs": [
    {
     "name": "stdout",
     "output_type": "stream",
     "text": [
      "using MPS\n"
     ]
    }
   ],
   "source": [
    "# Check for GPU availability\n",
    "if torch.backends.mps.is_available():\n",
    "    device = torch.device(\"mps\")  # Use Apple Metal Performance Shaders (MPS)\n",
    "    print(\"using MPS\")\n",
    "elif torch.cuda.is_available():\n",
    "    device = torch.device(\"cuda\")  # Use CUDA if available (for NVIDIA GPUs)\n",
    "    print(\"using CUDA\")\n",
    "else:\n",
    "    device = torch.device(\"cpu\")  # Fallback to CPU\n",
    "    print(\"using CPU\")"
   ]
  },
  {
   "cell_type": "markdown",
   "metadata": {},
   "source": [
    "### Model Architecture\n",
    "The proposed CNN model consists of:\n",
    "- **Four Convolutional Layers**: Extract spatial features using 3x3 filters.\n",
    "- **Batch Normalization**: Stabilizes activations.\n",
    "- **Leaky ReLU Activation**: Prevents neuron saturation.\n",
    "- **Max Pooling Layers**: Reduces feature map dimensions.\n",
    "- **Dropout Layers**: Prevents overfitting.\n",
    "- **Fully Connected Layers**: Outputs classification probabilities."
   ]
  },
  {
   "cell_type": "code",
   "execution_count": 3,
   "metadata": {},
   "outputs": [],
   "source": [
    "# CNN Model\n",
    "class MalariaCNN(nn.Module):\n",
    "    def __init__(self):\n",
    "        super(MalariaCNN, self).__init__()\n",
    "        \n",
    "        # First Conv Block\n",
    "        self.conv1 = nn.Conv2d(in_channels=3, out_channels=32, kernel_size=3, padding=1)\n",
    "        self.bn1 = nn.BatchNorm2d(32)\n",
    "        self.relu1 = nn.LeakyReLU(0.01)\n",
    "        self.pool1 = nn.MaxPool2d(2)\n",
    "        self.drop1 = nn.Dropout(0.25)\n",
    "\n",
    "        # Second Conv Block\n",
    "        self.conv2 = nn.Conv2d(32, 64, 3, padding=1)\n",
    "        self.bn2 = nn.BatchNorm2d(64)\n",
    "        self.relu2 = nn.LeakyReLU(0.01)\n",
    "        self.pool2 = nn.MaxPool2d(2)\n",
    "        self.drop2 = nn.Dropout(0.3)\n",
    "\n",
    "        # Third Conv Block\n",
    "        self.conv3 = nn.Conv2d(64, 128, 3, padding=1)\n",
    "        self.bn3 = nn.BatchNorm2d(128)\n",
    "        self.relu3 = nn.LeakyReLU(0.01)\n",
    "        self.pool3 = nn.MaxPool2d(2)\n",
    "        self.drop3 = nn.Dropout(0.4)\n",
    "\n",
    "        # Fourth Conv Block\n",
    "        self.conv4 = nn.Conv2d(128, 256, 3, padding=1)\n",
    "        self.bn4 = nn.BatchNorm2d(256)\n",
    "        self.relu4 = nn.LeakyReLU(0.01)\n",
    "        self.pool4 = nn.MaxPool2d(2)\n",
    "        self.drop4 = nn.Dropout(0.5)\n",
    "\n",
    "        # Fully Connected Layers\n",
    "        self.flatten = nn.Flatten()\n",
    "        self.fc1 = nn.Linear(256 * 4 * 4, 512)\n",
    "        self.bn5 = nn.BatchNorm1d(512)\n",
    "        self.relu5 = nn.LeakyReLU(0.01)\n",
    "        self.drop5 = nn.Dropout(0.5)\n",
    "\n",
    "        self.fc2 = nn.Linear(512, 2)  # Output: 2 classes (parasitized vs uninfected)\n",
    "\n",
    "    def forward(self, x):\n",
    "        x = self.pool1(self.drop1(self.relu1(self.bn1(self.conv1(x)))))\n",
    "        x = self.pool2(self.drop2(self.relu2(self.bn2(self.conv2(x)))))\n",
    "        x = self.pool3(self.drop3(self.relu3(self.bn3(self.conv3(x)))))\n",
    "        x = self.pool4(self.drop4(self.relu4(self.bn4(self.conv4(x)))))\n",
    "        x = self.flatten(x)\n",
    "        x = self.drop5(self.relu5(self.bn5(self.fc1(x))))\n",
    "        x = self.fc2(x)\n",
    "        return x"
   ]
  },
  {
   "cell_type": "code",
   "execution_count": 4,
   "metadata": {},
   "outputs": [
    {
     "name": "stdout",
     "output_type": "stream",
     "text": [
      "MalariaCNN(\n",
      "  (conv1): Conv2d(3, 32, kernel_size=(3, 3), stride=(1, 1), padding=(1, 1))\n",
      "  (bn1): BatchNorm2d(32, eps=1e-05, momentum=0.1, affine=True, track_running_stats=True)\n",
      "  (relu1): LeakyReLU(negative_slope=0.01)\n",
      "  (pool1): MaxPool2d(kernel_size=2, stride=2, padding=0, dilation=1, ceil_mode=False)\n",
      "  (drop1): Dropout(p=0.25, inplace=False)\n",
      "  (conv2): Conv2d(32, 64, kernel_size=(3, 3), stride=(1, 1), padding=(1, 1))\n",
      "  (bn2): BatchNorm2d(64, eps=1e-05, momentum=0.1, affine=True, track_running_stats=True)\n",
      "  (relu2): LeakyReLU(negative_slope=0.01)\n",
      "  (pool2): MaxPool2d(kernel_size=2, stride=2, padding=0, dilation=1, ceil_mode=False)\n",
      "  (drop2): Dropout(p=0.3, inplace=False)\n",
      "  (conv3): Conv2d(64, 128, kernel_size=(3, 3), stride=(1, 1), padding=(1, 1))\n",
      "  (bn3): BatchNorm2d(128, eps=1e-05, momentum=0.1, affine=True, track_running_stats=True)\n",
      "  (relu3): LeakyReLU(negative_slope=0.01)\n",
      "  (pool3): MaxPool2d(kernel_size=2, stride=2, padding=0, dilation=1, ceil_mode=False)\n",
      "  (drop3): Dropout(p=0.4, inplace=False)\n",
      "  (conv4): Conv2d(128, 256, kernel_size=(3, 3), stride=(1, 1), padding=(1, 1))\n",
      "  (bn4): BatchNorm2d(256, eps=1e-05, momentum=0.1, affine=True, track_running_stats=True)\n",
      "  (relu4): LeakyReLU(negative_slope=0.01)\n",
      "  (pool4): MaxPool2d(kernel_size=2, stride=2, padding=0, dilation=1, ceil_mode=False)\n",
      "  (drop4): Dropout(p=0.5, inplace=False)\n",
      "  (flatten): Flatten(start_dim=1, end_dim=-1)\n",
      "  (fc1): Linear(in_features=4096, out_features=512, bias=True)\n",
      "  (bn5): BatchNorm1d(512, eps=1e-05, momentum=0.1, affine=True, track_running_stats=True)\n",
      "  (relu5): LeakyReLU(negative_slope=0.01)\n",
      "  (drop5): Dropout(p=0.5, inplace=False)\n",
      "  (fc2): Linear(in_features=512, out_features=2, bias=True)\n",
      ")\n"
     ]
    }
   ],
   "source": [
    "# Initialize Model\n",
    "model = MalariaCNN().to(device)\n",
    "print(model)"
   ]
  },
  {
   "cell_type": "markdown",
   "metadata": {},
   "source": [
    "### Preprocessing & Data Augmentation\n",
    "To improve model generalization, the following transformations are applied:\n",
    "- **Random Rotation** (15 degrees)\n",
    "- **Random Horizontal Flip**\n",
    "- **Color Jitter** (brightness and contrast adjustments)\n",
    "- **Random Resized Crop** (target size: 64x64 pixels)\n",
    "- **Normalization** (mean = 0.5, std = 0.5)\n"
   ]
  },
  {
   "cell_type": "code",
   "execution_count": 5,
   "metadata": {},
   "outputs": [],
   "source": [
    "# Define transformations\n",
    "transform_train = transforms.Compose([\n",
    "    transforms.RandomRotation(15),\n",
    "    transforms.RandomHorizontalFlip(),\n",
    "    transforms.ColorJitter(brightness=0.2, contrast=0.2),\n",
    "    transforms.RandomResizedCrop(64, scale=(0.9, 1.0)),\n",
    "    transforms.ToTensor(),\n",
    "    transforms.Normalize((0.5,), (0.5,))\n",
    "])\n",
    "\n",
    "transform_test = transforms.Compose([\n",
    "    transforms.Resize((64, 64)),\n",
    "    transforms.ToTensor(),\n",
    "    transforms.Normalize((0.5,), (0.5,))\n",
    "])\n",
    "\n",
    "# Load dataset\n",
    "train_dataset = datasets.ImageFolder(root=\"/Users/Scott/Desktop/MIT Applied Data Science /Capstone/cell_images/train\", transform=transform_train)\n",
    "test_dataset = datasets.ImageFolder(root=\"/Users/Scott/Desktop/MIT Applied Data Science /Capstone/cell_images/test\", transform=transform_test)\n",
    "\n",
    "train_loader = DataLoader(train_dataset, batch_size=32, shuffle=True)\n",
    "test_loader = DataLoader(test_dataset, batch_size=32, shuffle=False)\n"
   ]
  },
  {
   "cell_type": "code",
   "execution_count": 6,
   "metadata": {},
   "outputs": [
    {
     "data": {
      "image/png": "[encoded data removed]",
      "text/plain": [
       "<Figure size 1200x800 with 6 Axes>"
      ]
     },
     "metadata": {},
     "output_type": "display_data"
    }
   ],
   "source": [
    "\n",
    "train_dataset_path = \"/Users/Scott/Desktop/MIT Applied Data Science/Capstone/cell_images/train\"\n",
    "\n",
    "def get_random_image(class_path):\n",
    "    image_filename = random.choice(os.listdir(class_path))  # Pick a random image\n",
    "    image_path = os.path.join(class_path, image_filename)\n",
    "    image = Image.open(image_path).convert(\"RGB\")  # Ensure RGB format\n",
    "    return image, image_path\n",
    "\n",
    "# Get random images from both classes\n",
    "parasitized_image, parasitized_path = get_random_image(\"/Users/Scott/Desktop/MIT Applied Data Science /Capstone/cell_images/train/parasitized\")\n",
    "unparasitized_image, unparasitized_path = get_random_image(\"/Users/Scott/Desktop/MIT Applied Data Science /Capstone/cell_images/train/uninfected\")\n",
    "\n",
    "# Apply transformations\n",
    "transformed_parasitized_train = transform_train(parasitized_image)\n",
    "transformed_unparasitized_train = transform_train(unparasitized_image)\n",
    "\n",
    "transformed_parasitized_test = transform_test(parasitized_image)\n",
    "transformed_unparasitized_test = transform_test(unparasitized_image)\n",
    "\n",
    "# Function to convert tensor to displayable image\n",
    "def tensor_to_image(tensor):\n",
    "    tensor = tensor.numpy().transpose(1, 2, 0)  # Convert from (C, H, W) to (H, W, C)\n",
    "    tensor = (tensor * 0.5) + 0.5  # Undo normalization\n",
    "    return np.clip(tensor, 0, 1)  # Ensure values are in range [0,1]\n",
    "\n",
    "# Display images\n",
    "fig, axes = plt.subplots(2, 3, figsize=(12, 8))\n",
    "\n",
    "# Parasitized Images\n",
    "axes[0, 0].imshow(parasitized_image)\n",
    "axes[0, 0].set_title(\"Original Parasitized\")\n",
    "axes[0, 0].axis(\"off\")\n",
    "\n",
    "axes[0, 1].imshow(tensor_to_image(transformed_parasitized_train))\n",
    "axes[0, 1].set_title(\"Transformed (Train)\")\n",
    "axes[0, 1].axis(\"off\")\n",
    "\n",
    "axes[0, 2].imshow(tensor_to_image(transformed_parasitized_test))\n",
    "axes[0, 2].set_title(\"Transformed (Test)\")\n",
    "axes[0, 2].axis(\"off\")\n",
    "\n",
    "# Unparasitized Images\n",
    "axes[1, 0].imshow(unparasitized_image)\n",
    "axes[1, 0].set_title(\"Original Unparasitized\")\n",
    "axes[1, 0].axis(\"off\")\n",
    "\n",
    "axes[1, 1].imshow(tensor_to_image(transformed_unparasitized_train))\n",
    "axes[1, 1].set_title(\"Transformed (Train)\")\n",
    "axes[1, 1].axis(\"off\")\n",
    "\n",
    "axes[1, 2].imshow(tensor_to_image(transformed_unparasitized_test))\n",
    "axes[1, 2].set_title(\"Transformed (Test)\")\n",
    "axes[1, 2].axis(\"off\")\n",
    "\n",
    "plt.tight_layout()\n",
    "plt.show()"
   ]
  },
  {
   "cell_type": "code",
   "execution_count": 7,
   "metadata": {},
   "outputs": [
    {
     "name": "stdout",
     "output_type": "stream",
     "text": [
      "Train Class Distribution: Counter({0: 12582, 1: 12376})\n",
      "Test Class Distribution: Counter({0: 1300, 1: 1300})\n"
     ]
    }
   ],
   "source": [
    "#checking if dataset is imbalanced\n",
    "# Count samples per class\n",
    "train_counts = Counter([label for _, label in train_dataset.samples])\n",
    "test_counts = Counter([label for _, label in test_dataset.samples])\n",
    "\n",
    "print(\"Train Class Distribution:\", train_counts)\n",
    "print(\"Test Class Distribution:\", test_counts)\n"
   ]
  },
  {
   "cell_type": "code",
   "execution_count": 8,
   "metadata": {},
   "outputs": [
    {
     "name": "stderr",
     "output_type": "stream",
     "text": [
      "/opt/anaconda3/envs/malaria_env/lib/python3.13/site-packages/torch/optim/lr_scheduler.py:62: UserWarning: The verbose parameter is deprecated. Please use get_last_lr() to access the learning rate.\n",
      "  warnings.warn(\n"
     ]
    }
   ],
   "source": [
    "# Loss function and optimizer\n",
    "criterion = nn.CrossEntropyLoss()\n",
    "optimizer = optim.Adam(model.parameters(), lr=1e-4, weight_decay=1e-4)\n",
    "\n",
    "# Learning rate scheduler (Reduce LR on Plateau)\n",
    "scheduler = optim.lr_scheduler.ReduceLROnPlateau(optimizer, mode=\"min\", factor=0.5, patience=2, verbose=True)\n"
   ]
  },
  {
   "cell_type": "code",
   "execution_count": 9,
   "metadata": {},
   "outputs": [
    {
     "name": "stdout",
     "output_type": "stream",
     "text": [
      "Epoch [1/30], Train Loss: 0.3803, Train Acc: 0.8181, Val Loss: 2.0718, Val Acc: 0.5058\n",
      "---Model saved at epoch 1 with val_loss: 169.8863---\n",
      "Epoch [2/30], Train Loss: 0.1404, Train Acc: 0.9501, Val Loss: 0.9155, Val Acc: 0.6169\n",
      "---Model saved at epoch 2 with val_loss: 75.0712---\n",
      "Epoch [3/30], Train Loss: 0.1113, Train Acc: 0.9618, Val Loss: 0.7872, Val Acc: 0.6700\n",
      "---Model saved at epoch 3 with val_loss: 64.5520---\n",
      "Epoch [4/30], Train Loss: 0.0927, Train Acc: 0.9697, Val Loss: 0.6617, Val Acc: 0.7154\n",
      "---Model saved at epoch 4 with val_loss: 54.2614---\n",
      "Epoch [5/30], Train Loss: 0.0876, Train Acc: 0.9713, Val Loss: 0.4302, Val Acc: 0.8165\n",
      "---Model saved at epoch 5 with val_loss: 35.2730---\n",
      "Epoch [6/30], Train Loss: 0.0775, Train Acc: 0.9756, Val Loss: 0.2503, Val Acc: 0.8900\n",
      "---Model saved at epoch 6 with val_loss: 20.5210---\n",
      "Epoch [7/30], Train Loss: 0.0786, Train Acc: 0.9740, Val Loss: 0.3907, Val Acc: 0.8281\n",
      "Epoch [8/30], Train Loss: 0.0750, Train Acc: 0.9754, Val Loss: 0.3379, Val Acc: 0.8550\n",
      "Epoch [9/30], Train Loss: 0.0736, Train Acc: 0.9767, Val Loss: 0.4025, Val Acc: 0.8242\n",
      "Epoch [10/30], Train Loss: 0.0649, Train Acc: 0.9784, Val Loss: 0.2417, Val Acc: 0.8992\n",
      "---Model saved at epoch 10 with val_loss: 19.8182---\n",
      "Epoch [11/30], Train Loss: 0.0657, Train Acc: 0.9782, Val Loss: 0.2773, Val Acc: 0.8846\n",
      "Epoch [12/30], Train Loss: 0.0620, Train Acc: 0.9792, Val Loss: 0.2635, Val Acc: 0.8900\n",
      "Epoch [13/30], Train Loss: 0.0615, Train Acc: 0.9788, Val Loss: 0.2032, Val Acc: 0.9154\n",
      "---Model saved at epoch 13 with val_loss: 16.6604---\n",
      "Epoch [14/30], Train Loss: 0.0634, Train Acc: 0.9782, Val Loss: 0.2739, Val Acc: 0.8865\n",
      "Epoch [15/30], Train Loss: 0.0597, Train Acc: 0.9789, Val Loss: 0.2326, Val Acc: 0.9038\n",
      "Epoch [16/30], Train Loss: 0.0603, Train Acc: 0.9797, Val Loss: 0.1739, Val Acc: 0.9277\n",
      "---Model saved at epoch 16 with val_loss: 14.2573---\n",
      "Epoch [17/30], Train Loss: 0.0605, Train Acc: 0.9786, Val Loss: 0.2890, Val Acc: 0.8800\n",
      "Epoch [18/30], Train Loss: 0.0589, Train Acc: 0.9800, Val Loss: 0.3125, Val Acc: 0.8704\n",
      "Epoch [19/30], Train Loss: 0.0572, Train Acc: 0.9802, Val Loss: 0.2757, Val Acc: 0.8842\n",
      "Epoch [20/30], Train Loss: 0.0576, Train Acc: 0.9802, Val Loss: 0.1700, Val Acc: 0.9331\n",
      "---Model saved at epoch 20 with val_loss: 13.9425---\n",
      "Epoch [21/30], Train Loss: 0.0572, Train Acc: 0.9800, Val Loss: 0.1523, Val Acc: 0.9408\n",
      "---Model saved at epoch 21 with val_loss: 12.4848---\n",
      "Epoch [22/30], Train Loss: 0.0557, Train Acc: 0.9802, Val Loss: 0.1775, Val Acc: 0.9319\n",
      "Epoch [23/30], Train Loss: 0.0546, Train Acc: 0.9804, Val Loss: 0.1436, Val Acc: 0.9481\n",
      "---Model saved at epoch 23 with val_loss: 11.7741---\n",
      "Epoch [24/30], Train Loss: 0.0552, Train Acc: 0.9813, Val Loss: 0.1551, Val Acc: 0.9415\n",
      "Epoch [25/30], Train Loss: 0.0556, Train Acc: 0.9809, Val Loss: 0.2321, Val Acc: 0.9069\n",
      "Epoch [26/30], Train Loss: 0.0551, Train Acc: 0.9809, Val Loss: 0.1874, Val Acc: 0.9258\n",
      "Epoch [27/30], Train Loss: 0.0523, Train Acc: 0.9812, Val Loss: 0.1599, Val Acc: 0.9400\n",
      "Epoch [28/30], Train Loss: 0.0509, Train Acc: 0.9820, Val Loss: 0.1599, Val Acc: 0.9404\n",
      "Epoch [29/30], Train Loss: 0.0517, Train Acc: 0.9819, Val Loss: 0.1824, Val Acc: 0.9262\n",
      "Epoch [30/30], Train Loss: 0.0512, Train Acc: 0.9826, Val Loss: 0.2224, Val Acc: 0.9135\n",
      "Epoch 30/30 took 39.61 sec\n"
     ]
    }
   ],
   "source": [
    "# Training loop\n",
    "num_epochs = 30\n",
    "best_val_loss = float(\"inf\")\n",
    "\n",
    "for epoch in range(num_epochs):\n",
    "    start_time = time.time()  # Start timing\n",
    "\n",
    "    model.train()\n",
    "    running_loss = 0.0\n",
    "    correct, total = 0, 0\n",
    "\n",
    "    for images, labels in train_loader:\n",
    "        images, labels = images.to(device), labels.to(device)\n",
    "        \n",
    "        optimizer.zero_grad()\n",
    "        outputs = model(images)\n",
    "        \n",
    "        loss = criterion(outputs, labels)\n",
    "        loss.backward()\n",
    "        optimizer.step()\n",
    "        \n",
    "        running_loss += loss.item()\n",
    "        _, predicted = torch.max(outputs, 1)\n",
    "        total += labels.size(0)\n",
    "        correct += (predicted == labels).sum().item()\n",
    "    \n",
    "    train_accuracy = correct / total\n",
    "    val_loss = 0.0\n",
    "    val_correct, val_total = 0, 0\n",
    "    \n",
    "    model.eval()\n",
    "    with torch.no_grad():\n",
    "        for images, labels in test_loader:\n",
    "            images, labels = images.to(device), labels.to(device)\n",
    "            outputs = model(images)\n",
    "            loss = criterion(outputs, labels)\n",
    "            val_loss += loss.item()\n",
    "            \n",
    "            _, predicted = torch.max(outputs, 1)\n",
    "            val_total += labels.size(0)\n",
    "            val_correct += (predicted == labels).sum().item()\n",
    "\n",
    "    val_accuracy = val_correct / val_total\n",
    "    scheduler.step(val_loss)  # Adjust learning rate if needed\n",
    "\n",
    "    print(f\"Epoch [{epoch+1}/{num_epochs}], Train Loss: {running_loss/len(train_loader):.4f}, Train Acc: {train_accuracy:.4f}, Val Loss: {val_loss/len(test_loader):.4f}, Val Acc: {val_accuracy:.4f}\")\n",
    "\n",
    "    # Save best model\n",
    "    if val_loss < best_val_loss:\n",
    "        best_val_loss = val_loss\n",
    "        torch.save(model.state_dict(), \"best_malaria_cnn.pth\")\n",
    "        print(f\"---Model saved at epoch {epoch+1} with val_loss: {val_loss:.4f}---\")\n",
    "\n",
    "epoch_time = time.time() - start_time  # End timing\n",
    "print(f\"Epoch {epoch+1}/{num_epochs} took {epoch_time:.2f} sec\")\n"
   ]
  },
  {
   "cell_type": "code",
   "execution_count": 10,
   "metadata": {},
   "outputs": [
    {
     "name": "stdout",
     "output_type": "stream",
     "text": [
      "Test Accuracy: 0.9481\n"
     ]
    }
   ],
   "source": [
    "# Load best model\n",
    "model.load_state_dict(torch.load(\"best_malaria_cnn.pth\"))\n",
    "model.eval()\n",
    "\n",
    "# Compute test accuracy\n",
    "test_correct, test_total = 0, 0\n",
    "with torch.no_grad():\n",
    "    for images, labels in test_loader:\n",
    "        images, labels = images.to(device), labels.to(device)\n",
    "        outputs = model(images)\n",
    "        _, predicted = torch.max(outputs, 1)\n",
    "        test_total += labels.size(0)\n",
    "        test_correct += (predicted == labels).sum().item()\n",
    "\n",
    "test_accuracy = test_correct / test_total\n",
    "print(f\"Test Accuracy: {test_accuracy:.4f}\")\n"
   ]
  },
  {
   "cell_type": "markdown",
   "metadata": {},
   "source": [
    "Introduce Partial Fine-Tuning"
   ]
  },
  {
   "cell_type": "code",
   "execution_count": 11,
   "metadata": {},
   "outputs": [
    {
     "data": {
      "text/plain": [
       "MalariaCNN(\n",
       "  (conv1): Conv2d(3, 32, kernel_size=(3, 3), stride=(1, 1), padding=(1, 1))\n",
       "  (bn1): BatchNorm2d(32, eps=1e-05, momentum=0.1, affine=True, track_running_stats=True)\n",
       "  (relu1): LeakyReLU(negative_slope=0.01)\n",
       "  (pool1): MaxPool2d(kernel_size=2, stride=2, padding=0, dilation=1, ceil_mode=False)\n",
       "  (drop1): Dropout(p=0.25, inplace=False)\n",
       "  (conv2): Conv2d(32, 64, kernel_size=(3, 3), stride=(1, 1), padding=(1, 1))\n",
       "  (bn2): BatchNorm2d(64, eps=1e-05, momentum=0.1, affine=True, track_running_stats=True)\n",
       "  (relu2): LeakyReLU(negative_slope=0.01)\n",
       "  (pool2): MaxPool2d(kernel_size=2, stride=2, padding=0, dilation=1, ceil_mode=False)\n",
       "  (drop2): Dropout(p=0.3, inplace=False)\n",
       "  (conv3): Conv2d(64, 128, kernel_size=(3, 3), stride=(1, 1), padding=(1, 1))\n",
       "  (bn3): BatchNorm2d(128, eps=1e-05, momentum=0.1, affine=True, track_running_stats=True)\n",
       "  (relu3): LeakyReLU(negative_slope=0.01)\n",
       "  (pool3): MaxPool2d(kernel_size=2, stride=2, padding=0, dilation=1, ceil_mode=False)\n",
       "  (drop3): Dropout(p=0.4, inplace=False)\n",
       "  (conv4): Conv2d(128, 256, kernel_size=(3, 3), stride=(1, 1), padding=(1, 1))\n",
       "  (bn4): BatchNorm2d(256, eps=1e-05, momentum=0.1, affine=True, track_running_stats=True)\n",
       "  (relu4): LeakyReLU(negative_slope=0.01)\n",
       "  (pool4): MaxPool2d(kernel_size=2, stride=2, padding=0, dilation=1, ceil_mode=False)\n",
       "  (drop4): Dropout(p=0.5, inplace=False)\n",
       "  (flatten): Flatten(start_dim=1, end_dim=-1)\n",
       "  (fc1): Linear(in_features=4096, out_features=512, bias=True)\n",
       "  (bn5): BatchNorm1d(512, eps=1e-05, momentum=0.1, affine=True, track_running_stats=True)\n",
       "  (relu5): LeakyReLU(negative_slope=0.01)\n",
       "  (drop5): Dropout(p=0.5, inplace=False)\n",
       "  (fc2): Linear(in_features=512, out_features=2, bias=True)\n",
       ")"
      ]
     },
     "execution_count": 11,
     "metadata": {},
     "output_type": "execute_result"
    }
   ],
   "source": [
    "for param in model.conv1.parameters():  # Freeze 1st convolutional layer\n",
    "    param.requires_grad = False\n",
    "\n",
    "for param in model.conv2.parameters():  # Freeze 2nd convolutional layer\n",
    "    param.requires_grad = False\n",
    "\n",
    "# Fine-Tune Only Last Conv Layer and Fully Connected Layers\n",
    "for param in model.conv3.parameters():  # Fine-tune 3rd conv layer\n",
    "    param.requires_grad = True\n",
    "\n",
    "for param in model.fc1.parameters():  # Fine-tune fully connected layers\n",
    "    param.requires_grad = True\n",
    "\n",
    "for param in model.fc2.parameters():  # Fine-tune output layer\n",
    "    param.requires_grad = True\n",
    "\n",
    "# Move to GPU/MPS (if available)\n",
    "device = torch.device(\"mps\" if torch.backends.mps.is_available() else \"cuda\" if torch.cuda.is_available() else \"cpu\")\n",
    "model.to(device)"
   ]
  },
  {
   "cell_type": "markdown",
   "metadata": {},
   "source": [
    "Optimizer for Fine-Tuning Only Selected Layers"
   ]
  },
  {
   "cell_type": "code",
   "execution_count": 12,
   "metadata": {},
   "outputs": [],
   "source": [
    "# Define loss function\n",
    "criterion = nn.CrossEntropyLoss()\n",
    "\n",
    "# Optimize fine-tuned layers, using Adam W to directly decay the weights during the update step \n",
    "optimizer = optim.AdamW(\n",
    "    filter(lambda p: p.requires_grad, model.parameters()),  #ensures only trainable parameters are updated.\n",
    "    lr=1e-4) #lower learning rate prevents drastic changes\n",
    "\n",
    "# Learning Rate Scheduler (Optional)\n",
    "scheduler = optim.lr_scheduler.ReduceLROnPlateau(optimizer, mode=\"min\", factor=0.5, patience=2)\n"
   ]
  },
  {
   "cell_type": "markdown",
   "metadata": {},
   "source": [
    "Training Loop for Fine-Tuning"
   ]
  },
  {
   "cell_type": "code",
   "execution_count": 13,
   "metadata": {},
   "outputs": [
    {
     "name": "stdout",
     "output_type": "stream",
     "text": [
      "Epoch 1/10, Loss: 44.9583, Train Acc: 0.9804\n",
      "Epoch 2/10, Loss: 46.7574, Train Acc: 0.9797\n",
      "Epoch 3/10, Loss: 46.5464, Train Acc: 0.9795\n",
      "Epoch 4/10, Loss: 48.8556, Train Acc: 0.9795\n",
      "Epoch 5/10, Loss: 49.1570, Train Acc: 0.9791\n",
      "Epoch 6/10, Loss: 50.2586, Train Acc: 0.9789\n",
      "Epoch 7/10, Loss: 50.8519, Train Acc: 0.9788\n",
      "Epoch 8/10, Loss: 53.1677, Train Acc: 0.9782\n",
      "Epoch 9/10, Loss: 52.8605, Train Acc: 0.9785\n",
      "Epoch 10/10, Loss: 52.5838, Train Acc: 0.9786\n",
      "Fine-Tuning Complete\n"
     ]
    }
   ],
   "source": [
    "train_loader = DataLoader(train_dataset, batch_size=32, shuffle=True)\n",
    "test_loader = DataLoader(test_dataset, batch_size=32, shuffle=False)\n",
    "\n",
    "num_epochs = 10  # Fine-tune for a few epochs\n",
    "for epoch in range(num_epochs):\n",
    "    model.train()\n",
    "    running_loss = 0.0\n",
    "    correct, total = 0, 0\n",
    "\n",
    "    for images, labels in train_loader:\n",
    "        images, labels = images.to(device), labels.to(device)\n",
    "\n",
    "        optimizer.zero_grad()\n",
    "        outputs = model(images)\n",
    "        loss = criterion(outputs, labels)\n",
    "        loss.backward()\n",
    "        optimizer.step()\n",
    "\n",
    "        running_loss += loss.item()\n",
    "        _, predicted = torch.max(outputs, 1)\n",
    "        total += labels.size(0)\n",
    "        correct += (predicted == labels).sum().item()\n",
    "\n",
    "    train_accuracy = correct / total\n",
    "    print(f\"Epoch {epoch+1}/{num_epochs}, Loss: {running_loss:.4f}, Train Acc: {train_accuracy:.4f}\")\n",
    "    \n",
    "    model.eval()\n",
    "    val_loss = 0.0\n",
    "    with torch.no_grad():\n",
    "        for images, labels in test_loader:\n",
    "            images, labels = images.to(device), labels.to(device)\n",
    "            outputs = model(images)\n",
    "            loss = criterion(outputs, labels)\n",
    "            val_loss += loss.item()\n",
    "\n",
    "    # Save only if validation loss improves\n",
    "    if val_loss < best_val_loss:\n",
    "        best_val_loss = val_loss\n",
    "        torch.save(model.state_dict(), \"fine_tuned_model.pth\")  \n",
    "        print(f\"---Model saved at epoch {epoch+1} with val_loss: {val_loss:.4f}---\")\n",
    "\n",
    "print(\"Fine-Tuning Complete\")\n"
   ]
  },
  {
   "cell_type": "code",
   "execution_count": 14,
   "metadata": {},
   "outputs": [
    {
     "name": "stdout",
     "output_type": "stream",
     "text": [
      "Test Accuracy: 0.9581\n"
     ]
    }
   ],
   "source": [
    "# Load best model\n",
    "model.load_state_dict(torch.load(\"fine_tuned_model.pth\"))\n",
    "model.eval()\n",
    "\n",
    "# Compute test accuracy\n",
    "test_correct, test_total = 0, 0\n",
    "with torch.no_grad():\n",
    "    for images, labels in test_loader:\n",
    "        images, labels = images.to(device), labels.to(device)\n",
    "        outputs = model(images)\n",
    "        _, predicted = torch.max(outputs, 1)\n",
    "        test_total += labels.size(0)\n",
    "        test_correct += (predicted == labels).sum().item()\n",
    "\n",
    "test_accuracy = test_correct / test_total\n",
    "print(f\"Test Accuracy: {test_accuracy:.4f}\")"
   ]
  },
  {
   "cell_type": "markdown",
   "metadata": {},
   "source": [
    "### Using Grad-CAM or SHAP values to visualize decison-making regions. "
   ]
  },
  {
   "cell_type": "markdown",
   "metadata": {},
   "source": []
  }
 ],
 "metadata": {
  "kernelspec": {
   "display_name": "malaria_env",
   "language": "python",
   "name": "python3"
  },
  "language_info": {
   "codemirror_mode": {
    "name": "ipython",
    "version": 3
   },
   "file_extension": ".py",
   "mimetype": "text/x-python",
   "name": "python",
   "nbconvert_exporter": "python",
   "pygments_lexer": "ipython3",
   "version": "3.13.2"
  }
 },
 "nbformat": 4,
 "nbformat_minor": 2
}
